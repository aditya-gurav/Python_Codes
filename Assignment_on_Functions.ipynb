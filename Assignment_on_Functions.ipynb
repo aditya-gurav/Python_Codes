{
  "nbformat": 4,
  "nbformat_minor": 0,
  "metadata": {
    "colab": {
      "provenance": []
    },
    "kernelspec": {
      "name": "python3",
      "display_name": "Python 3"
    },
    "language_info": {
      "name": "python"
    }
  },
  "cells": [
    {
      "cell_type": "markdown",
      "source": [
        "Define a function that accepts a number and returns whether the number is even or odd."
      ],
      "metadata": {
        "id": "SA0zwy1HTiK-"
      }
    },
    {
      "cell_type": "code",
      "source": [
        "def your_number(number):\n",
        "    if number % 2 == 0:\n",
        "        print(\"The number is Even\")\n",
        "    else:\n",
        "        print(\"The number is Odd\")"
      ],
      "metadata": {
        "id": "QYp14SD5p2cw"
      },
      "execution_count": null,
      "outputs": []
    },
    {
      "cell_type": "code",
      "source": [
        "your_number(10)"
      ],
      "metadata": {
        "colab": {
          "base_uri": "https://localhost:8080/"
        },
        "id": "oq7CuZGgSJXc",
        "outputId": "6fe5e8db-80b2-4c46-c479-b012d7c89b47"
      },
      "execution_count": null,
      "outputs": [
        {
          "output_type": "stream",
          "name": "stdout",
          "text": [
            "The number is Even\n"
          ]
        }
      ]
    },
    {
      "cell_type": "code",
      "source": [
        "your_number(13)"
      ],
      "metadata": {
        "colab": {
          "base_uri": "https://localhost:8080/"
        },
        "id": "SOl2nkkXSMhH",
        "outputId": "a3c9ea0a-fd1d-42b0-bae7-3a01215672d3"
      },
      "execution_count": null,
      "outputs": [
        {
          "output_type": "stream",
          "name": "stdout",
          "text": [
            "The number is Odd\n"
          ]
        }
      ]
    },
    {
      "cell_type": "markdown",
      "source": [
        "Define a function to create and print a list where the values are square of numbers between 1 and 30 (both included)."
      ],
      "metadata": {
        "id": "eFB9qeBSTxRd"
      }
    },
    {
      "cell_type": "code",
      "source": [
        "def square_list():\n",
        "    list = []\n",
        "    for numbers in range(1, 31):\n",
        "        list.append(numbers ** 2)\n",
        "    print(list)"
      ],
      "metadata": {
        "id": "xoZ8le6R3zmW"
      },
      "execution_count": null,
      "outputs": []
    },
    {
      "cell_type": "code",
      "source": [
        "square_list()"
      ],
      "metadata": {
        "colab": {
          "base_uri": "https://localhost:8080/"
        },
        "id": "S9JpKOATSU1t",
        "outputId": "123f7924-bd9f-498f-9c72-7b585c3e254f"
      },
      "execution_count": null,
      "outputs": [
        {
          "output_type": "stream",
          "name": "stdout",
          "text": [
            "[1, 4, 9, 16, 25, 36, 49, 64, 81, 100, 121, 144, 169, 196, 225, 256, 289, 324, 361, 400, 441, 484, 529, 576, 625, 676, 729, 784, 841, 900]\n"
          ]
        }
      ]
    },
    {
      "cell_type": "markdown",
      "source": [
        "Define a function, shut_down, that takes one parameter. Then, if the shut_down function receives a value equal to \"yes\", it should print \"Shutting down\". Alternatively, if vallue is equal to \"no\", then the function should print \"Shutdown aborted\". Finally, if shut_down gets anything other than those inputs, the function should print \"Sorry\"."
      ],
      "metadata": {
        "id": "WPKsEW0dUIZF"
      }
    },
    {
      "cell_type": "code",
      "source": [
        "def shut_down(value):\n",
        "    if value == \"yes\":\n",
        "        print(\"Shutting down\")\n",
        "    elif value == \"no\":\n",
        "        print(\"Shutdown aborted\")\n",
        "    else:\n",
        "        print(\"Sorry\")"
      ],
      "metadata": {
        "id": "BErvgTSlp4BA"
      },
      "execution_count": null,
      "outputs": []
    },
    {
      "cell_type": "code",
      "source": [
        "shut_down(\"yes\")"
      ],
      "metadata": {
        "colab": {
          "base_uri": "https://localhost:8080/"
        },
        "id": "QVGN3PkIScFH",
        "outputId": "b120576f-66ae-4583-ffe0-d6f8a4e41a28"
      },
      "execution_count": null,
      "outputs": [
        {
          "output_type": "stream",
          "name": "stdout",
          "text": [
            "Shutting down\n"
          ]
        }
      ]
    },
    {
      "cell_type": "code",
      "source": [
        "shut_down(\"no\")"
      ],
      "metadata": {
        "colab": {
          "base_uri": "https://localhost:8080/"
        },
        "id": "3kIezxgXSgDx",
        "outputId": "167c993b-c3b1-41e2-d0d4-4589f40dcd5d"
      },
      "execution_count": null,
      "outputs": [
        {
          "output_type": "stream",
          "name": "stdout",
          "text": [
            "Shutdown aborted\n"
          ]
        }
      ]
    },
    {
      "cell_type": "code",
      "source": [
        "shut_down(\"restart\")"
      ],
      "metadata": {
        "colab": {
          "base_uri": "https://localhost:8080/"
        },
        "id": "lQVJhRQoSjOq",
        "outputId": "97948651-8030-41b0-b09e-d0c37fb307e2"
      },
      "execution_count": null,
      "outputs": [
        {
          "output_type": "stream",
          "name": "stdout",
          "text": [
            "Sorry\n"
          ]
        }
      ]
    },
    {
      "cell_type": "markdown",
      "source": [
        "\n",
        "\n",
        "Define a function called \"by_three\" that takes a parameter called number. If that number is divisible by 3, \"by_three\" should print the cube of the number. Otherwise, by_three should print False."
      ],
      "metadata": {
        "id": "KosfqTW8Ur_1"
      }
    },
    {
      "cell_type": "code",
      "source": [
        "def by_three(number):\n",
        "    if number % 3 == 0:\n",
        "        print(number ** 3)\n",
        "    else:\n",
        "        print(False)"
      ],
      "metadata": {
        "id": "ma_rcX6sp4nW"
      },
      "execution_count": null,
      "outputs": []
    },
    {
      "cell_type": "code",
      "source": [
        "by_three(9)"
      ],
      "metadata": {
        "colab": {
          "base_uri": "https://localhost:8080/"
        },
        "id": "0xKTj9KgSq1H",
        "outputId": "da8151e8-6a67-4fd3-8ff2-5e45d9a7d491"
      },
      "execution_count": null,
      "outputs": [
        {
          "output_type": "stream",
          "name": "stdout",
          "text": [
            "729\n"
          ]
        }
      ]
    },
    {
      "cell_type": "code",
      "source": [
        "by_three(20)"
      ],
      "metadata": {
        "colab": {
          "base_uri": "https://localhost:8080/"
        },
        "id": "29-CnZpKSs75",
        "outputId": "0fc9ddf4-27c7-4924-b32d-f1089d7557b7"
      },
      "execution_count": null,
      "outputs": [
        {
          "output_type": "stream",
          "name": "stdout",
          "text": [
            "False\n"
          ]
        }
      ]
    },
    {
      "cell_type": "markdown",
      "source": [
        "Define a function that takes a list and prints a new list with no duplicate elements given in the first list."
      ],
      "metadata": {
        "id": "EWbQXeU5WpdZ"
      }
    },
    {
      "cell_type": "code",
      "source": [
        "def remove_duplicates(input_list):\n",
        "\n",
        "    no_duplicates = list(set(input_list))\n",
        "    return no_duplicates\n",
        "\n",
        "\n",
        "input_list = [10, 25, 31, 25, 45, 45, 93, 18]\n",
        "print(\"Original list:\", input_list)\n",
        "print(\"List without duplicates:\", remove_duplicates(input_list))"
      ],
      "metadata": {
        "id": "BAtCg5oY33BO",
        "colab": {
          "base_uri": "https://localhost:8080/"
        },
        "outputId": "e28a3d7c-36bd-469b-edab-b099d1c3c1e4"
      },
      "execution_count": null,
      "outputs": [
        {
          "output_type": "stream",
          "name": "stdout",
          "text": [
            "Original list: [10, 25, 31, 25, 45, 45, 93, 18]\n",
            "List without duplicates: [10, 45, 18, 25, 93, 31]\n"
          ]
        }
      ]
    }
  ]
}