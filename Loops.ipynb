{
  "nbformat": 4,
  "nbformat_minor": 0,
  "metadata": {
    "colab": {
      "provenance": []
    },
    "kernelspec": {
      "name": "python3",
      "display_name": "Python 3"
    },
    "language_info": {
      "name": "python"
    }
  },
  "cells": [
    {
      "cell_type": "code",
      "source": [
        "#For_Loop"
      ],
      "metadata": {
        "id": "LOF7RXnPXHKA"
      },
      "execution_count": null,
      "outputs": []
    },
    {
      "cell_type": "markdown",
      "source": [
        "Display the names of your friends one by one stored in the form of a list."
      ],
      "metadata": {
        "id": "DWIJ0lyuVFbD"
      }
    },
    {
      "cell_type": "code",
      "execution_count": null,
      "metadata": {
        "id": "b75LEUq5U15e",
        "colab": {
          "base_uri": "https://localhost:8080/"
        },
        "outputId": "452aa870-7776-4a6f-eaaa-be1421b54130"
      },
      "outputs": [
        {
          "output_type": "stream",
          "name": "stdout",
          "text": [
            "George\n",
            "Catherine\n",
            "John\n",
            "Chirag\n",
            "Rishabh\n",
            "Tushar\n",
            "Sagar\n",
            "Alok\n"
          ]
        }
      ],
      "source": [
        "names=['George', 'Catherine', 'John', 'Chirag', 'Rishabh', 'Tushar', 'Sagar', 'Alok']\n",
        "\n",
        "for name in names: #'name' is iterator\n",
        "  print(name)\n"
      ]
    },
    {
      "cell_type": "code",
      "source": [
        "#loops"
      ],
      "metadata": {
        "id": "87T_t5YlXLa-"
      },
      "execution_count": null,
      "outputs": []
    },
    {
      "cell_type": "code",
      "source": [
        "#for loop"
      ],
      "metadata": {
        "id": "AOHb1qWJgSxN"
      },
      "execution_count": null,
      "outputs": []
    },
    {
      "cell_type": "markdown",
      "source": [
        "Display the first 10 whole numbers"
      ],
      "metadata": {
        "id": "FrH5tcOMamuj"
      }
    },
    {
      "cell_type": "code",
      "source": [
        "for i in range(0,10):  #by default the step size will be 1\n",
        "  print(i)\n"
      ],
      "metadata": {
        "colab": {
          "base_uri": "https://localhost:8080/"
        },
        "id": "1VTnEBDoawee",
        "outputId": "6442e976-acf5-47b5-995f-b96cfca548c5"
      },
      "execution_count": null,
      "outputs": [
        {
          "output_type": "stream",
          "name": "stdout",
          "text": [
            "0\n",
            "1\n",
            "2\n",
            "3\n",
            "4\n",
            "5\n",
            "6\n",
            "7\n",
            "8\n",
            "9\n"
          ]
        }
      ]
    },
    {
      "cell_type": "code",
      "source": [
        "for i in range(0,10,2):  #here step size is 2 - consequtive o/ps will have diff of 2\n",
        "  print(i)"
      ],
      "metadata": {
        "colab": {
          "base_uri": "https://localhost:8080/"
        },
        "id": "S1yqSSj7a39f",
        "outputId": "1101d10b-708b-4ccf-8947-de87f99c6525"
      },
      "execution_count": null,
      "outputs": [
        {
          "output_type": "stream",
          "name": "stdout",
          "text": [
            "0\n",
            "2\n",
            "4\n",
            "6\n",
            "8\n"
          ]
        }
      ]
    },
    {
      "cell_type": "code",
      "source": [
        "for i in range(0,10,3):\n",
        "  print(i)"
      ],
      "metadata": {
        "colab": {
          "base_uri": "https://localhost:8080/"
        },
        "id": "KB_d7mKwcCYP",
        "outputId": "92732b42-884d-42f9-a3ec-1d44bd844853"
      },
      "execution_count": null,
      "outputs": [
        {
          "output_type": "stream",
          "name": "stdout",
          "text": [
            "0\n",
            "3\n",
            "6\n",
            "9\n"
          ]
        }
      ]
    },
    {
      "cell_type": "code",
      "source": [
        "for i in range(0,10,4):\n",
        "  print(i)"
      ],
      "metadata": {
        "colab": {
          "base_uri": "https://localhost:8080/"
        },
        "id": "9YvKgHJRcFbu",
        "outputId": "1064112e-630c-4ec6-885a-9261c895bc17"
      },
      "execution_count": null,
      "outputs": [
        {
          "output_type": "stream",
          "name": "stdout",
          "text": [
            "0\n",
            "4\n",
            "8\n"
          ]
        }
      ]
    },
    {
      "cell_type": "markdown",
      "source": [
        "Take a list of numbers and display all the even numbers from this list"
      ],
      "metadata": {
        "id": "cso81POFc81x"
      }
    },
    {
      "cell_type": "code",
      "source": [
        "list=[51,52,53,54,55,56,57,58,59,60,61,62,63,64,65,66,67,68,69,70]\n",
        "\n",
        "for x in list:\n",
        "  if x%2==0:\n",
        "    print(x,end=' ') #for horizontal output use print( ,end=' ')"
      ],
      "metadata": {
        "colab": {
          "base_uri": "https://localhost:8080/"
        },
        "id": "bznHtPbzciQ-",
        "outputId": "da242094-dfd0-4104-c310-bd5cee77ee35"
      },
      "execution_count": null,
      "outputs": [
        {
          "output_type": "stream",
          "name": "stdout",
          "text": [
            "52 54 56 58 60 62 64 66 68 70 "
          ]
        }
      ]
    },
    {
      "cell_type": "code",
      "source": [
        "list=[51,52,53,54,55,56,57,58,59,60,61,62,63,64,65,66,67,68,69,70]\n",
        "\n",
        "for x in list:\n",
        "  if x%2!=0:\n",
        "    print(x)"
      ],
      "metadata": {
        "colab": {
          "base_uri": "https://localhost:8080/"
        },
        "id": "Woc5Wpzhex-2",
        "outputId": "14fe5a91-15fc-4bab-ef11-cf66bd852173"
      },
      "execution_count": null,
      "outputs": [
        {
          "output_type": "stream",
          "name": "stdout",
          "text": [
            "51\n",
            "53\n",
            "55\n",
            "57\n",
            "59\n",
            "61\n",
            "63\n",
            "65\n",
            "67\n",
            "69\n"
          ]
        }
      ]
    },
    {
      "cell_type": "code",
      "source": [
        "#While_Loop"
      ],
      "metadata": {
        "id": "GzeGLKXdfUyG"
      },
      "execution_count": null,
      "outputs": []
    },
    {
      "cell_type": "markdown",
      "source": [
        "Display all the numbers including 1 to 10"
      ],
      "metadata": {
        "id": "05FpY0aIcCcK"
      }
    },
    {
      "cell_type": "code",
      "source": [
        "a=1\n",
        "\n",
        "while a<=10:\n",
        "  print(a)\n",
        "  a=a+1"
      ],
      "metadata": {
        "colab": {
          "base_uri": "https://localhost:8080/"
        },
        "id": "-7ypmwy0XOns",
        "outputId": "7ed1d951-5f5a-4389-c3c2-1469f8112f96"
      },
      "execution_count": null,
      "outputs": [
        {
          "output_type": "stream",
          "name": "stdout",
          "text": [
            "1\n",
            "2\n",
            "3\n",
            "4\n",
            "5\n",
            "6\n",
            "7\n",
            "8\n",
            "9\n",
            "10\n"
          ]
        }
      ]
    },
    {
      "cell_type": "markdown",
      "source": [
        "Display all the even numbers between 1 to 20 (both numbers included)"
      ],
      "metadata": {
        "id": "IqrB6ThecPds"
      }
    },
    {
      "cell_type": "code",
      "source": [
        "a=2\n",
        "\n",
        "while a<=20:\n",
        "  print(a)\n",
        "  a+=2"
      ],
      "metadata": {
        "colab": {
          "base_uri": "https://localhost:8080/"
        },
        "id": "mcCx_kjOZZOU",
        "outputId": "4f591e2f-9b4a-4ec5-9108-f3737710c839"
      },
      "execution_count": null,
      "outputs": [
        {
          "output_type": "stream",
          "name": "stdout",
          "text": [
            "2\n",
            "4\n",
            "6\n",
            "8\n",
            "10\n",
            "12\n",
            "14\n",
            "16\n",
            "18\n",
            "20\n"
          ]
        }
      ]
    },
    {
      "cell_type": "code",
      "source": [
        "a=0\n",
        "\n",
        "while a<=20:\n",
        "  print(a)\n",
        "  a=a+2"
      ],
      "metadata": {
        "colab": {
          "base_uri": "https://localhost:8080/"
        },
        "id": "h4VO9kMreSHU",
        "outputId": "20e2bfae-3a40-4be5-e93f-015a5a278ba5"
      },
      "execution_count": null,
      "outputs": [
        {
          "output_type": "stream",
          "name": "stdout",
          "text": [
            "0\n",
            "2\n",
            "4\n",
            "6\n",
            "8\n",
            "10\n",
            "12\n",
            "14\n",
            "16\n",
            "18\n",
            "20\n"
          ]
        }
      ]
    },
    {
      "cell_type": "markdown",
      "source": [
        "Controlling the flow in Loops\n",
        "\n",
        "1. Break Statement - Breaks the loop when an element is satisfying a given condition\n",
        "\n",
        "2. Continue Statement - The loop continues to iterate and only the element in the given condition gets skipped"
      ],
      "metadata": {
        "id": "lXHS2w7Oe11V"
      }
    },
    {
      "cell_type": "code",
      "source": [
        "fruit=['Mango', 'Banana', 'PineApple', 'Guava', 'Grapes', 'Potato', 'Tomato']\n",
        "\n",
        "for i in fruit:\n",
        "  if i=='Guava': #if the fruit becomes Guava (4th iteration)\n",
        "    break\n",
        "  print(i)"
      ],
      "metadata": {
        "colab": {
          "base_uri": "https://localhost:8080/"
        },
        "id": "trhMUv3NenF0",
        "outputId": "db8bc4ed-99aa-40cb-8671-95daca53a47b"
      },
      "execution_count": null,
      "outputs": [
        {
          "output_type": "stream",
          "name": "stdout",
          "text": [
            "Mango\n",
            "Banana\n",
            "PineApple\n"
          ]
        }
      ]
    },
    {
      "cell_type": "code",
      "source": [
        "fruit=['Mango', 'Banana', 'PineApple', 'Guava', 'Grapes', 'Potato', 'Tomato']\n",
        "\n",
        "for i in fruit:\n",
        "  if i=='Guava': #Guava will be skipped but the iteration will not stop\n",
        "    continue\n",
        "  print(i)"
      ],
      "metadata": {
        "colab": {
          "base_uri": "https://localhost:8080/"
        },
        "id": "WWcPbevAgDmd",
        "outputId": "50beef92-f58f-4bf5-f4ee-d97675f296ef"
      },
      "execution_count": null,
      "outputs": [
        {
          "output_type": "stream",
          "name": "stdout",
          "text": [
            "Mango\n",
            "Banana\n",
            "PineApple\n",
            "Grapes\n",
            "Potato\n",
            "Tomato\n"
          ]
        }
      ]
    },
    {
      "cell_type": "code",
      "source": [],
      "metadata": {
        "id": "h9NqLoh0hOvt"
      },
      "execution_count": null,
      "outputs": []
    }
  ]
}