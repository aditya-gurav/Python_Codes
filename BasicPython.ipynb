{
  "nbformat": 4,
  "nbformat_minor": 0,
  "metadata": {
    "colab": {
      "provenance": []
    },
    "kernelspec": {
      "name": "python3",
      "display_name": "Python 3"
    },
    "language_info": {
      "name": "python"
    }
  },
  "cells": [
    {
      "cell_type": "code",
      "source": [
        "#comments -- comments are not part of the executable code, they are added only to increase the readability"
      ],
      "metadata": {
        "id": "eWFy8GWzMxII"
      },
      "execution_count": null,
      "outputs": []
    },
    {
      "cell_type": "markdown",
      "source": [
        "Ways in which we can execute the code cell\n",
        "1. shift + enter\n",
        "2. ctrl + enter\n",
        "3. Play Button"
      ],
      "metadata": {
        "id": "EuuW_mlyN96v"
      }
    },
    {
      "cell_type": "code",
      "source": [
        "a=155"
      ],
      "metadata": {
        "id": "FQ_OGAKBNXCn"
      },
      "execution_count": null,
      "outputs": []
    },
    {
      "cell_type": "code",
      "source": [
        "print(a)"
      ],
      "metadata": {
        "colab": {
          "base_uri": "https://localhost:8080/"
        },
        "id": "QX_wRdUsOMYk",
        "outputId": "4faa5ab5-5127-4a83-c09f-0772b0d29555"
      },
      "execution_count": null,
      "outputs": [
        {
          "output_type": "stream",
          "name": "stdout",
          "text": [
            "155\n"
          ]
        }
      ]
    },
    {
      "cell_type": "code",
      "source": [
        "type(a)"
      ],
      "metadata": {
        "colab": {
          "base_uri": "https://localhost:8080/"
        },
        "id": "4EZioxQ3OPsL",
        "outputId": "0e444348-068f-460f-85dc-afad4d68b356"
      },
      "execution_count": null,
      "outputs": [
        {
          "output_type": "execute_result",
          "data": {
            "text/plain": [
              "int"
            ]
          },
          "metadata": {},
          "execution_count": 4
        }
      ]
    },
    {
      "cell_type": "code",
      "source": [
        "b=-8.9"
      ],
      "metadata": {
        "id": "cs66vuu8ORtD"
      },
      "execution_count": null,
      "outputs": []
    },
    {
      "cell_type": "code",
      "source": [
        "print(b)"
      ],
      "metadata": {
        "colab": {
          "base_uri": "https://localhost:8080/"
        },
        "id": "Kos6b0M0OXKj",
        "outputId": "6d067c9e-174d-41c5-d5fe-361a62c7cf2f"
      },
      "execution_count": null,
      "outputs": [
        {
          "output_type": "stream",
          "name": "stdout",
          "text": [
            "-8.9\n"
          ]
        }
      ]
    },
    {
      "cell_type": "code",
      "source": [
        "type(b)"
      ],
      "metadata": {
        "colab": {
          "base_uri": "https://localhost:8080/"
        },
        "id": "X0hO_C9xOZ7z",
        "outputId": "2b6e1b52-9c0f-452b-e064-bedf182807e2"
      },
      "execution_count": null,
      "outputs": [
        {
          "output_type": "execute_result",
          "data": {
            "text/plain": [
              "float"
            ]
          },
          "metadata": {},
          "execution_count": 7
        }
      ]
    },
    {
      "cell_type": "code",
      "source": [
        "c=4-2j"
      ],
      "metadata": {
        "id": "UQSodse_Obxi"
      },
      "execution_count": null,
      "outputs": []
    },
    {
      "cell_type": "code",
      "source": [
        "print(c)"
      ],
      "metadata": {
        "colab": {
          "base_uri": "https://localhost:8080/"
        },
        "id": "qzRDpucsOgUD",
        "outputId": "cb629bf5-f807-42e9-bfc1-951e15efdbd4"
      },
      "execution_count": null,
      "outputs": [
        {
          "output_type": "stream",
          "name": "stdout",
          "text": [
            "(4-2j)\n"
          ]
        }
      ]
    },
    {
      "cell_type": "code",
      "source": [
        "type(c)"
      ],
      "metadata": {
        "colab": {
          "base_uri": "https://localhost:8080/"
        },
        "id": "1A5LKkoqOx7i",
        "outputId": "0339d213-81d9-4c76-b908-07cd40ff0bd4"
      },
      "execution_count": null,
      "outputs": [
        {
          "output_type": "execute_result",
          "data": {
            "text/plain": [
              "complex"
            ]
          },
          "metadata": {},
          "execution_count": 10
        }
      ]
    },
    {
      "cell_type": "code",
      "source": [
        "d=\"Indian Ocean\""
      ],
      "metadata": {
        "id": "VMLTJpegOzTd"
      },
      "execution_count": null,
      "outputs": []
    },
    {
      "cell_type": "code",
      "source": [
        "print(d)"
      ],
      "metadata": {
        "colab": {
          "base_uri": "https://localhost:8080/"
        },
        "id": "iDBTDEG1O52y",
        "outputId": "237300c6-ffb1-4587-c9f6-a49b320a15e6"
      },
      "execution_count": null,
      "outputs": [
        {
          "output_type": "stream",
          "name": "stdout",
          "text": [
            "Indian Ocean\n"
          ]
        }
      ]
    },
    {
      "cell_type": "code",
      "source": [
        "type(d)"
      ],
      "metadata": {
        "colab": {
          "base_uri": "https://localhost:8080/"
        },
        "id": "rNhRJKSkO7az",
        "outputId": "0c848387-0b2e-4827-dcee-18fe496c14c2"
      },
      "execution_count": null,
      "outputs": [
        {
          "output_type": "execute_result",
          "data": {
            "text/plain": [
              "str"
            ]
          },
          "metadata": {},
          "execution_count": 13
        }
      ]
    },
    {
      "cell_type": "code",
      "source": [
        "num=\"-4.895\""
      ],
      "metadata": {
        "id": "7dPUSpBoO9Vi"
      },
      "execution_count": null,
      "outputs": []
    },
    {
      "cell_type": "code",
      "source": [
        "print(num)"
      ],
      "metadata": {
        "colab": {
          "base_uri": "https://localhost:8080/"
        },
        "id": "j0xPaTMsPH1y",
        "outputId": "80be38d6-0f4a-4000-e7ca-865d78e843e6"
      },
      "execution_count": null,
      "outputs": [
        {
          "output_type": "stream",
          "name": "stdout",
          "text": [
            "-4.895\n"
          ]
        }
      ]
    },
    {
      "cell_type": "code",
      "source": [
        "type(num)"
      ],
      "metadata": {
        "colab": {
          "base_uri": "https://localhost:8080/"
        },
        "id": "oL_T-kzVPKMa",
        "outputId": "56bea6ed-a08f-46a8-9346-0baf142b49d4"
      },
      "execution_count": null,
      "outputs": [
        {
          "output_type": "execute_result",
          "data": {
            "text/plain": [
              "str"
            ]
          },
          "metadata": {},
          "execution_count": 16
        }
      ]
    },
    {
      "cell_type": "code",
      "source": [
        "my_list=[\"Apple\", \"Russia\", \"Mango\", \"India\", 45, 52, -4.5, -3.8]"
      ],
      "metadata": {
        "id": "MbTXfYqIPN4y"
      },
      "execution_count": null,
      "outputs": []
    },
    {
      "cell_type": "code",
      "source": [
        "print(my_list)"
      ],
      "metadata": {
        "colab": {
          "base_uri": "https://localhost:8080/"
        },
        "id": "CBZbmgm6Pd6i",
        "outputId": "16a9101f-62a4-44ea-8964-bb1f2b48a666"
      },
      "execution_count": null,
      "outputs": [
        {
          "output_type": "stream",
          "name": "stdout",
          "text": [
            "['Apple', 'Russia', 'Mango', 'India', 45, 52, -4.5, -3.8]\n"
          ]
        }
      ]
    },
    {
      "cell_type": "code",
      "source": [
        "type(my_list)"
      ],
      "metadata": {
        "colab": {
          "base_uri": "https://localhost:8080/"
        },
        "id": "P_nTBcTSPrKK",
        "outputId": "5af37c89-920d-48cb-f8e1-523265958a88"
      },
      "execution_count": null,
      "outputs": [
        {
          "output_type": "execute_result",
          "data": {
            "text/plain": [
              "list"
            ]
          },
          "metadata": {},
          "execution_count": 20
        }
      ]
    },
    {
      "cell_type": "code",
      "source": [
        "name=(\"Aditya\",22)"
      ],
      "metadata": {
        "id": "E0rjP1G_Pt6i"
      },
      "execution_count": null,
      "outputs": []
    },
    {
      "cell_type": "code",
      "source": [
        "print(name)"
      ],
      "metadata": {
        "colab": {
          "base_uri": "https://localhost:8080/"
        },
        "id": "BleCwU_FQ2tS",
        "outputId": "16531420-d776-4803-c87b-d08dd6ca2a57"
      },
      "execution_count": null,
      "outputs": [
        {
          "output_type": "stream",
          "name": "stdout",
          "text": [
            "('Aditya', 22)\n"
          ]
        }
      ]
    },
    {
      "cell_type": "code",
      "source": [
        "type(name)"
      ],
      "metadata": {
        "colab": {
          "base_uri": "https://localhost:8080/"
        },
        "id": "ag30-Ml0Q49B",
        "outputId": "a0e5fd8a-299d-4ced-f43c-a5b5898ede16"
      },
      "execution_count": null,
      "outputs": [
        {
          "output_type": "execute_result",
          "data": {
            "text/plain": [
              "tuple"
            ]
          },
          "metadata": {},
          "execution_count": 23
        }
      ]
    },
    {
      "cell_type": "markdown",
      "source": [
        "Operations in Lists and Strings\n",
        "\n",
        "1. Concatination\n",
        "2. Indexing\n",
        "3. Slicing"
      ],
      "metadata": {
        "id": "w2pbdDfqFmbj"
      }
    },
    {
      "cell_type": "code",
      "source": [
        "#Concatination\n",
        "a=\"My\"\n",
        "b=\"Desktop\""
      ],
      "metadata": {
        "id": "9eQMhylJF6j8"
      },
      "execution_count": null,
      "outputs": []
    },
    {
      "cell_type": "code",
      "source": [
        "print(a+b)"
      ],
      "metadata": {
        "colab": {
          "base_uri": "https://localhost:8080/"
        },
        "id": "rV8xiTUPGEEk",
        "outputId": "6d3e7f78-6a23-4f5a-9b35-7858abaa07d7"
      },
      "execution_count": null,
      "outputs": [
        {
          "output_type": "stream",
          "name": "stdout",
          "text": [
            "MyDesktop\n"
          ]
        }
      ]
    },
    {
      "cell_type": "code",
      "source": [
        "print(a+\" \"+b)"
      ],
      "metadata": {
        "colab": {
          "base_uri": "https://localhost:8080/"
        },
        "id": "z5sTNo9YGM9s",
        "outputId": "e32dae6a-b3b9-4ae9-b945-39608824d1d5"
      },
      "execution_count": null,
      "outputs": [
        {
          "output_type": "stream",
          "name": "stdout",
          "text": [
            "My Desktop\n"
          ]
        }
      ]
    },
    {
      "cell_type": "code",
      "source": [
        "first_name=\"Aditya\"\n",
        "middle_name=\"Kishor\"\n",
        "last_name=\"Gurav\"\n",
        "\n",
        "print(\"Your full name is\",first_name+\" \"+middle_name+\" \"+last_name)"
      ],
      "metadata": {
        "colab": {
          "base_uri": "https://localhost:8080/"
        },
        "id": "8BfUlRnCGSGE",
        "outputId": "4e4b34d4-b411-404a-c312-b6a07f151cf6"
      },
      "execution_count": null,
      "outputs": [
        {
          "output_type": "stream",
          "name": "stdout",
          "text": [
            "Your full name is Aditya Kishor Gurav\n"
          ]
        }
      ]
    },
    {
      "cell_type": "code",
      "source": [
        "#concatination in Lists"
      ],
      "metadata": {
        "id": "gs_IkRYTGwrr"
      },
      "execution_count": null,
      "outputs": []
    },
    {
      "cell_type": "code",
      "source": [
        "L1=[1,2,3,4,5]"
      ],
      "metadata": {
        "id": "OhUVEia5G050"
      },
      "execution_count": null,
      "outputs": []
    },
    {
      "cell_type": "code",
      "source": [
        "L2=[\"Mango\",\"Apple\"]"
      ],
      "metadata": {
        "id": "CYrVEsyTG5Db"
      },
      "execution_count": null,
      "outputs": []
    },
    {
      "cell_type": "code",
      "source": [
        "print(L1+L2)"
      ],
      "metadata": {
        "colab": {
          "base_uri": "https://localhost:8080/"
        },
        "id": "iLnIQTd2HAKt",
        "outputId": "74f91624-44d7-4bb7-ac8b-793aeef0f493"
      },
      "execution_count": null,
      "outputs": [
        {
          "output_type": "stream",
          "name": "stdout",
          "text": [
            "[1, 2, 3, 4, 5, 'Mango', 'Apple']\n"
          ]
        }
      ]
    },
    {
      "cell_type": "code",
      "source": [
        "#Indexing in Strings\n",
        "\n",
        "word='Indian Ocean'"
      ],
      "metadata": {
        "id": "9vaYanWbHJRs"
      },
      "execution_count": null,
      "outputs": []
    },
    {
      "cell_type": "code",
      "source": [
        "word[9]"
      ],
      "metadata": {
        "colab": {
          "base_uri": "https://localhost:8080/",
          "height": 35
        },
        "id": "XMo_wZ2SNqbw",
        "outputId": "9efea05e-04bf-44d5-e4af-9eb201e6a995"
      },
      "execution_count": null,
      "outputs": [
        {
          "output_type": "execute_result",
          "data": {
            "text/plain": [
              "'e'"
            ],
            "application/vnd.google.colaboratory.intrinsic+json": {
              "type": "string"
            }
          },
          "metadata": {},
          "execution_count": 13
        }
      ]
    },
    {
      "cell_type": "code",
      "source": [
        "word[-1]"
      ],
      "metadata": {
        "colab": {
          "base_uri": "https://localhost:8080/",
          "height": 35
        },
        "id": "Lx7GCh0GNtTg",
        "outputId": "705364d4-2e61-49c2-b89e-f847bd17c675"
      },
      "execution_count": null,
      "outputs": [
        {
          "output_type": "execute_result",
          "data": {
            "text/plain": [
              "'n'"
            ],
            "application/vnd.google.colaboratory.intrinsic+json": {
              "type": "string"
            }
          },
          "metadata": {},
          "execution_count": 14
        }
      ]
    },
    {
      "cell_type": "code",
      "source": [
        "#Indexing in Lists"
      ],
      "metadata": {
        "id": "NxjVLrQzNvjg"
      },
      "execution_count": null,
      "outputs": []
    },
    {
      "cell_type": "code",
      "source": [
        "l_new=['AI', 'Data Science', 'Mango', 'Pineapple', 'Python', 'PySpark', 5, 6, 7, 8, 9, 10]"
      ],
      "metadata": {
        "id": "v8HQPs1kN3_g"
      },
      "execution_count": null,
      "outputs": []
    },
    {
      "cell_type": "code",
      "source": [
        "l_new[2]"
      ],
      "metadata": {
        "colab": {
          "base_uri": "https://localhost:8080/",
          "height": 35
        },
        "id": "7961SjVUPTUY",
        "outputId": "f15a98ba-fde1-4561-a7bc-9ee7235f05fe"
      },
      "execution_count": null,
      "outputs": [
        {
          "output_type": "execute_result",
          "data": {
            "text/plain": [
              "'Mango'"
            ],
            "application/vnd.google.colaboratory.intrinsic+json": {
              "type": "string"
            }
          },
          "metadata": {},
          "execution_count": 18
        }
      ]
    },
    {
      "cell_type": "code",
      "source": [
        "Aditya=l_new[2]"
      ],
      "metadata": {
        "id": "9xtYSDaMRNoB"
      },
      "execution_count": null,
      "outputs": []
    },
    {
      "cell_type": "code",
      "source": [
        "print(Aditya)"
      ],
      "metadata": {
        "colab": {
          "base_uri": "https://localhost:8080/"
        },
        "id": "SfMZrSsHRSUG",
        "outputId": "184c0071-79db-441b-bb89-32e1561d00c7"
      },
      "execution_count": null,
      "outputs": [
        {
          "output_type": "stream",
          "name": "stdout",
          "text": [
            "Mango\n"
          ]
        }
      ]
    },
    {
      "cell_type": "code",
      "source": [
        "Aditya[2]"
      ],
      "metadata": {
        "colab": {
          "base_uri": "https://localhost:8080/",
          "height": 35
        },
        "id": "CiLyEHNqRXLu",
        "outputId": "a134a578-2f03-440b-970e-2adeba099146"
      },
      "execution_count": null,
      "outputs": [
        {
          "output_type": "execute_result",
          "data": {
            "text/plain": [
              "'n'"
            ],
            "application/vnd.google.colaboratory.intrinsic+json": {
              "type": "string"
            }
          },
          "metadata": {},
          "execution_count": 23
        }
      ]
    },
    {
      "cell_type": "code",
      "source": [
        "#Slicing in Lists"
      ],
      "metadata": {
        "id": "VjNrzj00RqAO"
      },
      "execution_count": null,
      "outputs": []
    },
    {
      "cell_type": "code",
      "source": [
        "my_list=[1,2,3,'Russia','USA','Alaska','Israel',5,8,-4.9]"
      ],
      "metadata": {
        "id": "fvyHaxBZbNu9"
      },
      "execution_count": null,
      "outputs": []
    },
    {
      "cell_type": "code",
      "source": [
        "my_list[4:7]"
      ],
      "metadata": {
        "colab": {
          "base_uri": "https://localhost:8080/"
        },
        "id": "45-VxKoGbhy8",
        "outputId": "1067ceeb-159a-4ae8-8dcb-93685a13f446"
      },
      "execution_count": null,
      "outputs": [
        {
          "output_type": "execute_result",
          "data": {
            "text/plain": [
              "['USA', 'Alaska', 'Israel']"
            ]
          },
          "metadata": {},
          "execution_count": 27
        }
      ]
    },
    {
      "cell_type": "code",
      "source": [
        "my_list[-6:-3]"
      ],
      "metadata": {
        "colab": {
          "base_uri": "https://localhost:8080/"
        },
        "id": "6uZzJxoBb36U",
        "outputId": "ed09b075-a3ad-4837-a0c5-5eb0b7b007b8"
      },
      "execution_count": null,
      "outputs": [
        {
          "output_type": "execute_result",
          "data": {
            "text/plain": [
              "['USA', 'Alaska', 'Israel']"
            ]
          },
          "metadata": {},
          "execution_count": 28
        }
      ]
    },
    {
      "cell_type": "code",
      "source": [
        "tup=(1,2,3,4,5,6,7,8)"
      ],
      "metadata": {
        "id": "8IlU_BP-b72c"
      },
      "execution_count": null,
      "outputs": []
    },
    {
      "cell_type": "code",
      "source": [
        "sum(tup)"
      ],
      "metadata": {
        "colab": {
          "base_uri": "https://localhost:8080/"
        },
        "id": "-MJsog9xPxDo",
        "outputId": "5e2ec07c-1ecf-4982-d23f-af32700f13e5"
      },
      "execution_count": null,
      "outputs": [
        {
          "output_type": "execute_result",
          "data": {
            "text/plain": [
              "36"
            ]
          },
          "metadata": {},
          "execution_count": 2
        }
      ]
    },
    {
      "cell_type": "markdown",
      "source": [
        "#Dictionaries"
      ],
      "metadata": {
        "id": "lOnvX-DLVyOB"
      }
    },
    {
      "cell_type": "code",
      "source": [
        "memo={\"Chips\":50, \"Chocolates\":250, \"Icecream\":300, \"Pens\":50, \"Bread\":45}"
      ],
      "metadata": {
        "id": "YCsjnhW9P28f"
      },
      "execution_count": null,
      "outputs": []
    },
    {
      "cell_type": "code",
      "source": [
        "print(memo)"
      ],
      "metadata": {
        "colab": {
          "base_uri": "https://localhost:8080/"
        },
        "id": "6nIuNTo3WIa5",
        "outputId": "bf420048-57dc-4b34-d105-50fb1964b2bb"
      },
      "execution_count": null,
      "outputs": [
        {
          "output_type": "stream",
          "name": "stdout",
          "text": [
            "{'Chips': 50, 'Chocolates': 250, 'Icecream': 300, 'Pens': 50, 'Bread': 45}\n"
          ]
        }
      ]
    },
    {
      "cell_type": "code",
      "source": [
        "memo[\"Chips\"]"
      ],
      "metadata": {
        "colab": {
          "base_uri": "https://localhost:8080/"
        },
        "id": "GtmCv-JKWQkI",
        "outputId": "ed2216ea-0771-4416-bc3a-b319b9e69612"
      },
      "execution_count": null,
      "outputs": [
        {
          "output_type": "execute_result",
          "data": {
            "text/plain": [
              "50"
            ]
          },
          "metadata": {},
          "execution_count": 7
        }
      ]
    },
    {
      "cell_type": "code",
      "source": [
        "memo[\"Chocolates\"]=300"
      ],
      "metadata": {
        "id": "9zIKHk_7WkBJ"
      },
      "execution_count": null,
      "outputs": []
    },
    {
      "cell_type": "code",
      "source": [
        "print(memo)"
      ],
      "metadata": {
        "colab": {
          "base_uri": "https://localhost:8080/"
        },
        "id": "8epti13YWy1R",
        "outputId": "6fb25ce4-c89a-49c7-b5fd-641861af0cbd"
      },
      "execution_count": null,
      "outputs": [
        {
          "output_type": "stream",
          "name": "stdout",
          "text": [
            "{'Chips': 50, 'Chocolates': 300, 'Icecream': 300, 'Pens': 50, 'Bread': 45}\n"
          ]
        }
      ]
    },
    {
      "cell_type": "code",
      "source": [
        "memo.keys()"
      ],
      "metadata": {
        "colab": {
          "base_uri": "https://localhost:8080/"
        },
        "id": "PgXbLYytW0Sp",
        "outputId": "c4af6305-403d-4d2c-f165-b15707b2a8c9"
      },
      "execution_count": null,
      "outputs": [
        {
          "output_type": "execute_result",
          "data": {
            "text/plain": [
              "dict_keys(['Chips', 'Chocolates', 'Icecream', 'Pens', 'Bread'])"
            ]
          },
          "metadata": {},
          "execution_count": 10
        }
      ]
    },
    {
      "cell_type": "code",
      "source": [
        "memo.values()"
      ],
      "metadata": {
        "colab": {
          "base_uri": "https://localhost:8080/"
        },
        "id": "zu20ri24W7LJ",
        "outputId": "730253e5-f6a8-4613-95c3-cac8dfe7b08e"
      },
      "execution_count": null,
      "outputs": [
        {
          "output_type": "execute_result",
          "data": {
            "text/plain": [
              "dict_values([50, 300, 300, 50, 45])"
            ]
          },
          "metadata": {},
          "execution_count": 11
        }
      ]
    },
    {
      "cell_type": "code",
      "source": [
        "My_Dictionary = {\"Name\": \"Bob\", \"Age\": 39, \"Salary\": 35000, \"City\": \"New York\"}"
      ],
      "metadata": {
        "id": "YwabU23RCeAd"
      },
      "execution_count": null,
      "outputs": []
    },
    {
      "cell_type": "code",
      "source": [
        "My_Dictionary[\"Designation\"]= \"Software Engg\""
      ],
      "metadata": {
        "id": "LehklAdcDbVt"
      },
      "execution_count": null,
      "outputs": []
    },
    {
      "cell_type": "code",
      "source": [
        "print(My_Dictionary)"
      ],
      "metadata": {
        "colab": {
          "base_uri": "https://localhost:8080/"
        },
        "id": "GM_zerTjEAP1",
        "outputId": "c61978ed-63be-49df-fe33-16bb57763f57"
      },
      "execution_count": null,
      "outputs": [
        {
          "output_type": "stream",
          "name": "stdout",
          "text": [
            "{'Name': 'Bob', 'Age': 39, 'Salary': 35000, 'City': 'New York', 'Designation': 'Software Engg'}\n"
          ]
        }
      ]
    },
    {
      "cell_type": "code",
      "source": [
        "My_Dictionary[\"Salary\"]"
      ],
      "metadata": {
        "colab": {
          "base_uri": "https://localhost:8080/"
        },
        "id": "xUFkP1tdEKp8",
        "outputId": "8df8986d-67c8-46cc-d8ca-91966161d974"
      },
      "execution_count": null,
      "outputs": [
        {
          "output_type": "execute_result",
          "data": {
            "text/plain": [
              "35000"
            ]
          },
          "metadata": {},
          "execution_count": 12
        }
      ]
    },
    {
      "cell_type": "code",
      "source": [
        "My_Dictionary[\"Salary\"]=55000"
      ],
      "metadata": {
        "id": "cRmY36SLEnof"
      },
      "execution_count": null,
      "outputs": []
    },
    {
      "cell_type": "code",
      "source": [
        "print(My_Dictionary)"
      ],
      "metadata": {
        "colab": {
          "base_uri": "https://localhost:8080/"
        },
        "id": "SD_1PR_LEzKV",
        "outputId": "6c54fe51-d1cd-46e7-d94e-7cc7396e8a89"
      },
      "execution_count": null,
      "outputs": [
        {
          "output_type": "stream",
          "name": "stdout",
          "text": [
            "{'Name': 'Bob', 'Age': 39, 'Salary': 55000, 'City': 'New York', 'Designation': 'Software Engg'}\n"
          ]
        }
      ]
    },
    {
      "cell_type": "code",
      "source": [
        "del My_Dictionary['Age']"
      ],
      "metadata": {
        "id": "5SE9CA5MHC_N"
      },
      "execution_count": null,
      "outputs": []
    },
    {
      "cell_type": "code",
      "source": [
        "print(My_Dictionary)"
      ],
      "metadata": {
        "colab": {
          "base_uri": "https://localhost:8080/"
        },
        "id": "5yOsHNjvHTUF",
        "outputId": "8b06e9e6-884d-4551-c67f-c7a5cea1b38c"
      },
      "execution_count": null,
      "outputs": [
        {
          "output_type": "stream",
          "name": "stdout",
          "text": [
            "{'Name': 'Bob', 'Salary': 55000, 'City': 'New York', 'Designation': 'Software Engg'}\n"
          ]
        }
      ]
    },
    {
      "cell_type": "code",
      "source": [],
      "metadata": {
        "id": "3NM84gYnHr71"
      },
      "execution_count": null,
      "outputs": []
    }
  ]
}