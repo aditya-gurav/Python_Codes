{
  "nbformat": 4,
  "nbformat_minor": 0,
  "metadata": {
    "colab": {
      "provenance": []
    },
    "kernelspec": {
      "name": "python3",
      "display_name": "Python 3"
    },
    "language_info": {
      "name": "python"
    }
  },
  "cells": [
    {
      "cell_type": "code",
      "source": [
        "def add(a,b): #a and b are parameters (variables)\n",
        "\n",
        "  sum=a+b\n",
        "  print(sum)"
      ],
      "metadata": {
        "id": "0Xqu8rfcnmHJ"
      },
      "execution_count": null,
      "outputs": []
    },
    {
      "cell_type": "code",
      "source": [
        "add(5,10) #5 and 10 are arguments to the parameter"
      ],
      "metadata": {
        "colab": {
          "base_uri": "https://localhost:8080/"
        },
        "id": "xhCDqKFxn2EG",
        "outputId": "24067937-d15f-464c-d189-ef85c6e76e88"
      },
      "execution_count": null,
      "outputs": [
        {
          "output_type": "stream",
          "name": "stdout",
          "text": [
            "15\n"
          ]
        }
      ]
    },
    {
      "cell_type": "code",
      "source": [
        "add(4,1)"
      ],
      "metadata": {
        "colab": {
          "base_uri": "https://localhost:8080/"
        },
        "id": "c8A7Auq6n4UG",
        "outputId": "6d73edbf-80f0-4f98-bcfe-101f89654fdc"
      },
      "execution_count": null,
      "outputs": [
        {
          "output_type": "stream",
          "name": "stdout",
          "text": [
            "5\n"
          ]
        }
      ]
    },
    {
      "cell_type": "code",
      "source": [
        "add(10,50)"
      ],
      "metadata": {
        "colab": {
          "base_uri": "https://localhost:8080/"
        },
        "id": "adFDfKGdn5q-",
        "outputId": "7621f05c-4de6-4768-90b1-bf31b4ccb2c5"
      },
      "execution_count": null,
      "outputs": [
        {
          "output_type": "stream",
          "name": "stdout",
          "text": [
            "60\n"
          ]
        }
      ]
    },
    {
      "cell_type": "code",
      "source": [
        "add(-5,-7)"
      ],
      "metadata": {
        "colab": {
          "base_uri": "https://localhost:8080/"
        },
        "id": "bgO5cT8-n70V",
        "outputId": "c796b350-c3d8-41de-9cb2-85b12523e412"
      },
      "execution_count": null,
      "outputs": [
        {
          "output_type": "stream",
          "name": "stdout",
          "text": [
            "-12\n"
          ]
        }
      ]
    },
    {
      "cell_type": "markdown",
      "source": [
        "Create a function which takes 2 numbers and display the addition, subtraction, multiplication and division of these two numbers"
      ],
      "metadata": {
        "id": "FWDKsz8Epw5X"
      }
    },
    {
      "cell_type": "code",
      "source": [
        "def compute(a,b):\n",
        "  s=a+b\n",
        "  t=a-b\n",
        "  u=a*b\n",
        "  v=a/b\n",
        "\n",
        "  print(s,t,u,v)"
      ],
      "metadata": {
        "id": "5-1eggRXoLOt"
      },
      "execution_count": null,
      "outputs": []
    },
    {
      "cell_type": "code",
      "source": [
        "compute(7,9)"
      ],
      "metadata": {
        "colab": {
          "base_uri": "https://localhost:8080/"
        },
        "id": "mhz9UsnyqnIN",
        "outputId": "f8ea96b3-ed9d-4a4b-bcc7-0f28108c6500"
      },
      "execution_count": null,
      "outputs": [
        {
          "output_type": "stream",
          "name": "stdout",
          "text": [
            "16 -2 63 0.7777777777777778\n"
          ]
        }
      ]
    },
    {
      "cell_type": "markdown",
      "source": [
        "Create a function which displays the name, age and city of a candidate"
      ],
      "metadata": {
        "id": "m0krRuKur2DG"
      }
    },
    {
      "cell_type": "code",
      "source": [
        "def info(name, age, city):\n",
        "  print(name, age, city)\n"
      ],
      "metadata": {
        "id": "0Gh4fdjQqrHt"
      },
      "execution_count": null,
      "outputs": []
    },
    {
      "cell_type": "code",
      "source": [
        "info('Aditya', 22, 'Pune')"
      ],
      "metadata": {
        "colab": {
          "base_uri": "https://localhost:8080/"
        },
        "id": "KxDlK0LptQLm",
        "outputId": "bf0cb8b1-83c2-48a4-e338-f16ee638a2f7"
      },
      "execution_count": null,
      "outputs": [
        {
          "output_type": "stream",
          "name": "stdout",
          "text": [
            "Aditya 22 Pune\n"
          ]
        }
      ]
    },
    {
      "cell_type": "markdown",
      "source": [
        "Types of Arguments\n",
        "\n",
        "1. Positional Arguments\n",
        "2. Default Arguments\n",
        "3. Arbitrary Arguments\n",
        "4. Keyword Arguments\n",
        "5. Arbitrary Keyword Arguments"
      ],
      "metadata": {
        "id": "IgPmZmkkt65g"
      }
    },
    {
      "cell_type": "code",
      "source": [
        "#Positional Arguments"
      ],
      "metadata": {
        "id": "-vpAPeQ-uN8u"
      },
      "execution_count": null,
      "outputs": []
    },
    {
      "cell_type": "code",
      "source": [
        "def name(firstname,lastname):\n",
        "  print('Hi your first name is',firstname)"
      ],
      "metadata": {
        "id": "aH05XHSD428w"
      },
      "execution_count": 1,
      "outputs": []
    },
    {
      "cell_type": "code",
      "source": [
        "name('Aditya','Gurav')"
      ],
      "metadata": {
        "colab": {
          "base_uri": "https://localhost:8080/"
        },
        "id": "yFtxZl2u5HWi",
        "outputId": "f21e6142-278a-4f20-dd3a-ffd505ed0178"
      },
      "execution_count": 2,
      "outputs": [
        {
          "output_type": "stream",
          "name": "stdout",
          "text": [
            "Hi your first name is Aditya\n"
          ]
        }
      ]
    },
    {
      "cell_type": "code",
      "source": [
        "#Default Arguments"
      ],
      "metadata": {
        "id": "1eGWOCLZ5LAR"
      },
      "execution_count": null,
      "outputs": []
    },
    {
      "cell_type": "code",
      "source": [
        "def greet(name,message='Hi how are you?'): #message is the default argument\n",
        "  print(name,message)"
      ],
      "metadata": {
        "id": "3HK6mkH15dSM"
      },
      "execution_count": 3,
      "outputs": []
    },
    {
      "cell_type": "code",
      "source": [
        "greet('Aditya','Good Morning')"
      ],
      "metadata": {
        "colab": {
          "base_uri": "https://localhost:8080/"
        },
        "id": "DkPTV9tO5wfK",
        "outputId": "530a7c1b-087a-402a-f3a3-18a747eb3093"
      },
      "execution_count": 4,
      "outputs": [
        {
          "output_type": "stream",
          "name": "stdout",
          "text": [
            "Aditya Good Morning\n"
          ]
        }
      ]
    },
    {
      "cell_type": "code",
      "source": [
        "greet('Aditya',)"
      ],
      "metadata": {
        "colab": {
          "base_uri": "https://localhost:8080/"
        },
        "id": "2foYCISU51HZ",
        "outputId": "c3540f85-55a5-4df7-ab46-bdfce890abc1"
      },
      "execution_count": 5,
      "outputs": [
        {
          "output_type": "stream",
          "name": "stdout",
          "text": [
            "Aditya Hi how are you?\n"
          ]
        }
      ]
    },
    {
      "cell_type": "markdown",
      "source": [
        "Create a function which takes name and salary as input and incase the salary is not provided, use default salary as 25000. Display\n",
        "the name and salary of the individual."
      ],
      "metadata": {
        "id": "9C6YGeXM6n9C"
      }
    },
    {
      "cell_type": "code",
      "source": [
        "def info(name, salary=\"25000\"): #salalry is the default argument\n",
        "  print(name,salary)"
      ],
      "metadata": {
        "id": "bRx7Xdxl58ZQ"
      },
      "execution_count": 6,
      "outputs": []
    },
    {
      "cell_type": "code",
      "source": [
        "info(\"Aditya\",)"
      ],
      "metadata": {
        "colab": {
          "base_uri": "https://localhost:8080/"
        },
        "id": "2P650kdD6Bj4",
        "outputId": "7bd63926-25ef-4a17-8462-e3ffccd15c74"
      },
      "execution_count": 9,
      "outputs": [
        {
          "output_type": "stream",
          "name": "stdout",
          "text": [
            "Aditya 25000\n"
          ]
        }
      ]
    },
    {
      "cell_type": "code",
      "source": [
        "info('Aditya', 40000)"
      ],
      "metadata": {
        "colab": {
          "base_uri": "https://localhost:8080/"
        },
        "id": "U4aPRzOB6C9w",
        "outputId": "0c9fe9b9-8ab1-4366-f8c5-827ec76a9a21"
      },
      "execution_count": 10,
      "outputs": [
        {
          "output_type": "stream",
          "name": "stdout",
          "text": [
            "Aditya 40000\n"
          ]
        }
      ]
    },
    {
      "cell_type": "code",
      "source": [
        "#Keyword Argument\n",
        "\n",
        "def greet(name, age, message):\n",
        "  print(message, name, \"you are age is\", age)"
      ],
      "metadata": {
        "id": "AOfJaPyf6I3Q"
      },
      "execution_count": 11,
      "outputs": []
    },
    {
      "cell_type": "code",
      "source": [
        "greet(name=\"Adi\", age=22, message=\"Good morning\") #while calling the function, we need to provide the input in key-value format"
      ],
      "metadata": {
        "colab": {
          "base_uri": "https://localhost:8080/"
        },
        "id": "BIa-2D_562Hw",
        "outputId": "c2e7510c-2a4d-4976-c2b4-a23ef7501a10"
      },
      "execution_count": 12,
      "outputs": [
        {
          "output_type": "stream",
          "name": "stdout",
          "text": [
            "Good morning Adi you are age is 22\n"
          ]
        }
      ]
    },
    {
      "cell_type": "code",
      "source": [
        "greet(age=28, message=\"Good morning\", name=\"Aditya\")"
      ],
      "metadata": {
        "colab": {
          "base_uri": "https://localhost:8080/"
        },
        "id": "z9P69kkD7MAY",
        "outputId": "b16a9342-8008-492b-9cb0-88f1aa8492b0"
      },
      "execution_count": 13,
      "outputs": [
        {
          "output_type": "stream",
          "name": "stdout",
          "text": [
            "Good morning Aditya you are age is 28\n"
          ]
        }
      ]
    },
    {
      "cell_type": "code",
      "source": [
        "greet(message=\"How are you?\", name=\"Aditya\", age=22)"
      ],
      "metadata": {
        "colab": {
          "base_uri": "https://localhost:8080/"
        },
        "id": "zB3OM0Rz7bzR",
        "outputId": "e6dce1cf-03d4-42f2-d92c-568567676605"
      },
      "execution_count": 14,
      "outputs": [
        {
          "output_type": "stream",
          "name": "stdout",
          "text": [
            "How are you? Aditya you are age is 22\n"
          ]
        }
      ]
    },
    {
      "cell_type": "code",
      "source": [
        "#Arbitrary Arguments, default type is tuple"
      ],
      "metadata": {
        "id": "ta8VH0cc7wyQ"
      },
      "execution_count": null,
      "outputs": []
    },
    {
      "cell_type": "code",
      "source": [
        "def add(*args):\n",
        "  print(type(args))\n",
        "  print(args)\n",
        "\n",
        "  sum=0\n",
        "  for num in args:\n",
        "    sum=sum+num\n",
        "  return sum"
      ],
      "metadata": {
        "id": "YM_c09c575ty"
      },
      "execution_count": 15,
      "outputs": []
    },
    {
      "cell_type": "code",
      "source": [
        "add(3,4)"
      ],
      "metadata": {
        "colab": {
          "base_uri": "https://localhost:8080/"
        },
        "id": "4h6VlHyU8bSY",
        "outputId": "3e7b70f3-a770-46ed-e5ed-f81baa5546df"
      },
      "execution_count": 16,
      "outputs": [
        {
          "output_type": "stream",
          "name": "stdout",
          "text": [
            "<class 'tuple'>\n",
            "(3, 4)\n"
          ]
        },
        {
          "output_type": "execute_result",
          "data": {
            "text/plain": [
              "7"
            ]
          },
          "metadata": {},
          "execution_count": 16
        }
      ]
    },
    {
      "cell_type": "code",
      "source": [
        "add(3,8,9,-3,-5,12)"
      ],
      "metadata": {
        "colab": {
          "base_uri": "https://localhost:8080/"
        },
        "id": "J1bpTArq8c7X",
        "outputId": "8effca12-6e79-4229-dce0-5ca6756c72e1"
      },
      "execution_count": 17,
      "outputs": [
        {
          "output_type": "stream",
          "name": "stdout",
          "text": [
            "<class 'tuple'>\n",
            "(3, 8, 9, -3, -5, 12)\n"
          ]
        },
        {
          "output_type": "execute_result",
          "data": {
            "text/plain": [
              "24"
            ]
          },
          "metadata": {},
          "execution_count": 17
        }
      ]
    },
    {
      "cell_type": "code",
      "source": [
        "def func(a,b,*args):\n",
        "  print(a)\n",
        "  print(b)\n",
        "  print(args)"
      ],
      "metadata": {
        "id": "Qox2Lkmq8n2v"
      },
      "execution_count": 18,
      "outputs": []
    },
    {
      "cell_type": "code",
      "source": [
        "func(5,7,568945)"
      ],
      "metadata": {
        "colab": {
          "base_uri": "https://localhost:8080/"
        },
        "id": "9q22viye812I",
        "outputId": "c23f5bd2-38e4-4a3d-9c8a-d7b0f654b156"
      },
      "execution_count": 19,
      "outputs": [
        {
          "output_type": "stream",
          "name": "stdout",
          "text": [
            "5\n",
            "7\n",
            "(568945,)\n"
          ]
        }
      ]
    },
    {
      "cell_type": "code",
      "source": [
        "func(5,7,5,6,8,9,4,5)"
      ],
      "metadata": {
        "colab": {
          "base_uri": "https://localhost:8080/"
        },
        "id": "p4WECpuv87Tw",
        "outputId": "e9581637-e9ac-490f-96de-e88b3166a071"
      },
      "execution_count": 20,
      "outputs": [
        {
          "output_type": "stream",
          "name": "stdout",
          "text": [
            "5\n",
            "7\n",
            "(5, 6, 8, 9, 4, 5)\n"
          ]
        }
      ]
    },
    {
      "cell_type": "code",
      "source": [
        "#Arbitrary Keyword Arguments -- *kwargs , Default type is Dictionary"
      ],
      "metadata": {
        "id": "e6LvlwiX9KZP"
      },
      "execution_count": 24,
      "outputs": []
    },
    {
      "cell_type": "code",
      "source": [
        "def display(**kwargs):\n",
        "  print(type(kwargs))\n",
        "  print(kwargs)\n",
        "\n",
        "  for key, value in kwargs.items():\n",
        "    print(key,\"-->\", value)"
      ],
      "metadata": {
        "id": "i1kkmu4u9Rs_"
      },
      "execution_count": 22,
      "outputs": []
    },
    {
      "cell_type": "code",
      "source": [
        "display(name=\"Aditya\", age=22, city=\"Pune\")"
      ],
      "metadata": {
        "colab": {
          "base_uri": "https://localhost:8080/"
        },
        "id": "wQcFmP6T9mPI",
        "outputId": "2704ef08-de55-49a4-f82b-0266efa3ca80"
      },
      "execution_count": 23,
      "outputs": [
        {
          "output_type": "stream",
          "name": "stdout",
          "text": [
            "<class 'dict'>\n",
            "{'name': 'Aditya', 'age': 22, 'city': 'Pune'}\n",
            "name --> Aditya\n",
            "age --> 22\n",
            "city --> Pune\n"
          ]
        }
      ]
    },
    {
      "cell_type": "code",
      "source": [],
      "metadata": {
        "id": "vIl0YMG89qDX"
      },
      "execution_count": null,
      "outputs": []
    }
  ]
}