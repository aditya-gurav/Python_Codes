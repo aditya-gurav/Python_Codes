{
  "nbformat": 4,
  "nbformat_minor": 0,
  "metadata": {
    "colab": {
      "provenance": []
    },
    "kernelspec": {
      "name": "python3",
      "display_name": "Python 3"
    },
    "language_info": {
      "name": "python"
    }
  },
  "cells": [
    {
      "cell_type": "markdown",
      "source": [
        "1."
      ],
      "metadata": {
        "id": "sWLQPIg0F5CV"
      }
    },
    {
      "cell_type": "code",
      "execution_count": null,
      "metadata": {
        "id": "_10cpkzOFReQ"
      },
      "outputs": [],
      "source": [
        "x=5+3*2"
      ]
    },
    {
      "cell_type": "code",
      "source": [
        "print(x)"
      ],
      "metadata": {
        "colab": {
          "base_uri": "https://localhost:8080/"
        },
        "id": "1kkEXXSxGFK0",
        "outputId": "bfe6c693-17e4-468f-bc48-bca1b260d835"
      },
      "execution_count": null,
      "outputs": [
        {
          "output_type": "stream",
          "name": "stdout",
          "text": [
            "11\n"
          ]
        }
      ]
    },
    {
      "cell_type": "markdown",
      "source": [
        "2."
      ],
      "metadata": {
        "id": "_LYVTrVdGZ2s"
      }
    },
    {
      "cell_type": "code",
      "source": [
        "x=5\n",
        "y=10\n",
        "x+=y\n",
        "print(x)"
      ],
      "metadata": {
        "id": "jbS1m7pZGR9z",
        "colab": {
          "base_uri": "https://localhost:8080/"
        },
        "outputId": "c5244336-10c8-41aa-c6ca-59f6b64d78ce"
      },
      "execution_count": null,
      "outputs": [
        {
          "output_type": "stream",
          "name": "stdout",
          "text": [
            "15\n"
          ]
        }
      ]
    },
    {
      "cell_type": "markdown",
      "source": [
        "3."
      ],
      "metadata": {
        "id": "VonYJ3INGsIg"
      }
    },
    {
      "cell_type": "code",
      "source": [
        "a=10\n",
        "b=5"
      ],
      "metadata": {
        "id": "m5d5Z0BdGoEb"
      },
      "execution_count": null,
      "outputs": []
    },
    {
      "cell_type": "code",
      "source": [
        "print (a>b)"
      ],
      "metadata": {
        "colab": {
          "base_uri": "https://localhost:8080/"
        },
        "id": "vADlEoxMHDFz",
        "outputId": "f36784c5-2b68-4210-d628-f6889a942b10"
      },
      "execution_count": null,
      "outputs": [
        {
          "output_type": "stream",
          "name": "stdout",
          "text": [
            "True\n"
          ]
        }
      ]
    },
    {
      "cell_type": "code",
      "source": [
        "print (not(b>a))"
      ],
      "metadata": {
        "colab": {
          "base_uri": "https://localhost:8080/"
        },
        "id": "lVXg2hzCHK9D",
        "outputId": "13995edd-2f41-4ef1-8848-31f88447d84d"
      },
      "execution_count": null,
      "outputs": [
        {
          "output_type": "stream",
          "name": "stdout",
          "text": [
            "True\n"
          ]
        }
      ]
    },
    {
      "cell_type": "code",
      "source": [
        "a=(10>5) and (not(5>10))\n",
        "print(a)"
      ],
      "metadata": {
        "colab": {
          "base_uri": "https://localhost:8080/"
        },
        "id": "esYj2qB2bAA2",
        "outputId": "573b6126-087a-41fc-cb2d-2724d14c56c9"
      },
      "execution_count": null,
      "outputs": [
        {
          "output_type": "stream",
          "name": "stdout",
          "text": [
            "True\n"
          ]
        }
      ]
    },
    {
      "cell_type": "markdown",
      "source": [
        "4."
      ],
      "metadata": {
        "id": "0T4OTrQhHRxs"
      }
    },
    {
      "cell_type": "code",
      "source": [
        "a=7/2"
      ],
      "metadata": {
        "id": "8xomBGlnHP7T"
      },
      "execution_count": null,
      "outputs": []
    },
    {
      "cell_type": "code",
      "source": [
        "print(a)"
      ],
      "metadata": {
        "colab": {
          "base_uri": "https://localhost:8080/"
        },
        "id": "2hG0utpdHXqb",
        "outputId": "a34c48b6-625d-4bfb-d681-68fcf6e51fc8"
      },
      "execution_count": null,
      "outputs": [
        {
          "output_type": "stream",
          "name": "stdout",
          "text": [
            "3.5\n"
          ]
        }
      ]
    },
    {
      "cell_type": "markdown",
      "source": [
        "5."
      ],
      "metadata": {
        "id": "QRr-c984HavH"
      }
    },
    {
      "cell_type": "code",
      "source": [
        "x=4//2"
      ],
      "metadata": {
        "id": "zjUSqJ1BHY-z"
      },
      "execution_count": null,
      "outputs": []
    },
    {
      "cell_type": "code",
      "source": [
        "print(x)"
      ],
      "metadata": {
        "colab": {
          "base_uri": "https://localhost:8080/"
        },
        "id": "FIrrV17iHeuq",
        "outputId": "352f70e5-e889-4c12-a83b-0ef8c81f04be"
      },
      "execution_count": null,
      "outputs": [
        {
          "output_type": "stream",
          "name": "stdout",
          "text": [
            "2\n"
          ]
        }
      ]
    },
    {
      "cell_type": "code",
      "source": [
        "type(x)"
      ],
      "metadata": {
        "colab": {
          "base_uri": "https://localhost:8080/"
        },
        "id": "4kdhwizUHiuy",
        "outputId": "f049432a-01e5-4579-e281-22934e2f1327"
      },
      "execution_count": null,
      "outputs": [
        {
          "output_type": "execute_result",
          "data": {
            "text/plain": [
              "int"
            ]
          },
          "metadata": {},
          "execution_count": 15
        }
      ]
    },
    {
      "cell_type": "markdown",
      "source": [
        "6."
      ],
      "metadata": {
        "id": "j6AkPsrSHmTU"
      }
    },
    {
      "cell_type": "code",
      "source": [
        "a=[1, 2, 3]\n",
        "b=a\n",
        "b[0]=4"
      ],
      "metadata": {
        "id": "998Os_FUHlUC"
      },
      "execution_count": null,
      "outputs": []
    },
    {
      "cell_type": "code",
      "source": [
        "print(a)"
      ],
      "metadata": {
        "colab": {
          "base_uri": "https://localhost:8080/"
        },
        "id": "cClkRh1zHznq",
        "outputId": "0b24fe2a-5617-4ebc-99eb-0f9b7bf16bb1"
      },
      "execution_count": null,
      "outputs": [
        {
          "output_type": "stream",
          "name": "stdout",
          "text": [
            "[4, 2, 3]\n"
          ]
        }
      ]
    },
    {
      "cell_type": "markdown",
      "source": [
        "7."
      ],
      "metadata": {
        "id": "fYEdAhIlH7t0"
      }
    },
    {
      "cell_type": "code",
      "source": [
        "s=\"hello\""
      ],
      "metadata": {
        "id": "N2O6rt46H1Jq"
      },
      "execution_count": null,
      "outputs": []
    },
    {
      "cell_type": "code",
      "source": [
        "print(s[1:4])"
      ],
      "metadata": {
        "colab": {
          "base_uri": "https://localhost:8080/"
        },
        "id": "XqtQ_9VIIC5S",
        "outputId": "d9e0e0b6-5331-4481-b42c-fd5b156d72cb"
      },
      "execution_count": null,
      "outputs": [
        {
          "output_type": "stream",
          "name": "stdout",
          "text": [
            "ell\n"
          ]
        }
      ]
    },
    {
      "cell_type": "markdown",
      "source": [
        "8."
      ],
      "metadata": {
        "id": "97X9dHQrIKmu"
      }
    },
    {
      "cell_type": "code",
      "source": [
        "result = 2 ** 3 ** 2"
      ],
      "metadata": {
        "id": "Ohh23G13IHLK"
      },
      "execution_count": null,
      "outputs": []
    },
    {
      "cell_type": "code",
      "source": [
        "print(result)"
      ],
      "metadata": {
        "colab": {
          "base_uri": "https://localhost:8080/"
        },
        "id": "E2x-SqvxITlS",
        "outputId": "810a2a37-823d-4530-a5fb-aeafb78b4997"
      },
      "execution_count": null,
      "outputs": [
        {
          "output_type": "stream",
          "name": "stdout",
          "text": [
            "512\n"
          ]
        }
      ]
    },
    {
      "cell_type": "markdown",
      "source": [
        "9."
      ],
      "metadata": {
        "id": "zMnppm5cIz6f"
      }
    },
    {
      "cell_type": "code",
      "source": [
        "a=[1, 2, 3, 4, 5]"
      ],
      "metadata": {
        "id": "a4nc2YaIIVbi"
      },
      "execution_count": null,
      "outputs": []
    },
    {
      "cell_type": "code",
      "source": [
        "print(a[::-1])"
      ],
      "metadata": {
        "colab": {
          "base_uri": "https://localhost:8080/"
        },
        "id": "pSfrmL2fIdn6",
        "outputId": "dc6d8b13-c980-4d5e-a809-f13e02fcc617"
      },
      "execution_count": null,
      "outputs": [
        {
          "output_type": "stream",
          "name": "stdout",
          "text": [
            "[5, 4, 3, 2, 1]\n"
          ]
        }
      ]
    },
    {
      "cell_type": "markdown",
      "source": [
        "10."
      ],
      "metadata": {
        "id": "5bYPRwGPI519"
      }
    },
    {
      "cell_type": "code",
      "source": [
        "x=10%3"
      ],
      "metadata": {
        "id": "GQZbRd7gIjOq"
      },
      "execution_count": null,
      "outputs": []
    },
    {
      "cell_type": "code",
      "source": [
        "print(x)"
      ],
      "metadata": {
        "colab": {
          "base_uri": "https://localhost:8080/"
        },
        "id": "E3-gL3DCI_LK",
        "outputId": "95d8c382-2733-4dae-c606-750215747b76"
      },
      "execution_count": null,
      "outputs": [
        {
          "output_type": "stream",
          "name": "stdout",
          "text": [
            "1\n"
          ]
        }
      ]
    },
    {
      "cell_type": "markdown",
      "source": [
        "11."
      ],
      "metadata": {
        "id": "6qEA78JBJC4r"
      }
    },
    {
      "cell_type": "code",
      "source": [
        "x=[1, 2, 3]\n",
        "y=[1, 2, 3]"
      ],
      "metadata": {
        "id": "yxWyijpeJA56"
      },
      "execution_count": null,
      "outputs": []
    },
    {
      "cell_type": "code",
      "source": [
        "print(x==y)"
      ],
      "metadata": {
        "colab": {
          "base_uri": "https://localhost:8080/"
        },
        "id": "pZNzutjOJQUJ",
        "outputId": "0910c33a-6ab6-4c85-94ff-5090efbe6ef6"
      },
      "execution_count": null,
      "outputs": [
        {
          "output_type": "stream",
          "name": "stdout",
          "text": [
            "True\n"
          ]
        }
      ]
    },
    {
      "cell_type": "code",
      "source": [
        "print(x is y)"
      ],
      "metadata": {
        "colab": {
          "base_uri": "https://localhost:8080/"
        },
        "id": "gQyMAgyGJStK",
        "outputId": "af4ba523-94d7-4669-9ebb-8aabe535eed4"
      },
      "execution_count": null,
      "outputs": [
        {
          "output_type": "stream",
          "name": "stdout",
          "text": [
            "False\n"
          ]
        }
      ]
    },
    {
      "cell_type": "markdown",
      "source": [
        "12."
      ],
      "metadata": {
        "id": "aI2lVFKYJWVt"
      }
    },
    {
      "cell_type": "code",
      "source": [
        "x=\"Python\"\n",
        "y=x*3"
      ],
      "metadata": {
        "id": "1i0Vz0m6JUuh"
      },
      "execution_count": null,
      "outputs": []
    },
    {
      "cell_type": "code",
      "source": [
        "print(y)"
      ],
      "metadata": {
        "colab": {
          "base_uri": "https://localhost:8080/"
        },
        "id": "sxZdXGbCJhdZ",
        "outputId": "e02ae411-62f3-4496-dca5-a7af8bad91b8"
      },
      "execution_count": null,
      "outputs": [
        {
          "output_type": "stream",
          "name": "stdout",
          "text": [
            "PythonPythonPython\n"
          ]
        }
      ]
    },
    {
      "cell_type": "markdown",
      "source": [
        "13."
      ],
      "metadata": {
        "id": "41c6PNzhJkG9"
      }
    },
    {
      "cell_type": "code",
      "source": [
        "x=True + 1"
      ],
      "metadata": {
        "id": "nhLFN6HYJigh"
      },
      "execution_count": null,
      "outputs": []
    },
    {
      "cell_type": "code",
      "source": [
        "print(x)"
      ],
      "metadata": {
        "colab": {
          "base_uri": "https://localhost:8080/"
        },
        "id": "3OT17vbwJrkh",
        "outputId": "d7e2b1f1-f41a-47bc-831f-0533f6eb80a4"
      },
      "execution_count": null,
      "outputs": [
        {
          "output_type": "stream",
          "name": "stdout",
          "text": [
            "2\n"
          ]
        }
      ]
    },
    {
      "cell_type": "code",
      "source": [
        "type(x)"
      ],
      "metadata": {
        "colab": {
          "base_uri": "https://localhost:8080/"
        },
        "id": "pmpl6cP0Jqgx",
        "outputId": "bfd72e98-99d0-40fc-d484-e970a7c7b4ff"
      },
      "execution_count": null,
      "outputs": [
        {
          "output_type": "execute_result",
          "data": {
            "text/plain": [
              "int"
            ]
          },
          "metadata": {},
          "execution_count": 33
        }
      ]
    },
    {
      "cell_type": "markdown",
      "source": [
        "14."
      ],
      "metadata": {
        "id": "57SN5v01JxO9"
      }
    },
    {
      "cell_type": "code",
      "source": [
        "print('abc' < 'abd')"
      ],
      "metadata": {
        "colab": {
          "base_uri": "https://localhost:8080/"
        },
        "id": "L9sZ6vyBJtMB",
        "outputId": "d494d18b-7bd9-44a6-965a-9f950bbc4fea"
      },
      "execution_count": null,
      "outputs": [
        {
          "output_type": "stream",
          "name": "stdout",
          "text": [
            "True\n"
          ]
        }
      ]
    },
    {
      "cell_type": "markdown",
      "source": [
        "15."
      ],
      "metadata": {
        "id": "BCtmC7amKOqh"
      }
    },
    {
      "cell_type": "code",
      "source": [
        "d = {'a': 1, 'b': 2}\n",
        "d['c'] = 3"
      ],
      "metadata": {
        "id": "HROO6iNsJ9JB"
      },
      "execution_count": null,
      "outputs": []
    },
    {
      "cell_type": "code",
      "source": [
        "print(d)"
      ],
      "metadata": {
        "colab": {
          "base_uri": "https://localhost:8080/"
        },
        "id": "vxOrAL0DKLP5",
        "outputId": "eaf2321a-81fd-47c1-80a6-0aed933f241f"
      },
      "execution_count": null,
      "outputs": [
        {
          "output_type": "stream",
          "name": "stdout",
          "text": [
            "{'a': 1, 'b': 2, 'c': 3}\n"
          ]
        }
      ]
    },
    {
      "cell_type": "markdown",
      "source": [
        "16."
      ],
      "metadata": {
        "id": "c_sbl25kKm4D"
      }
    },
    {
      "cell_type": "code",
      "source": [
        "a = '123'\n",
        "a += \"456\"\n",
        "print(a)"
      ],
      "metadata": {
        "colab": {
          "base_uri": "https://localhost:8080/"
        },
        "id": "izlfjZXEKNEJ",
        "outputId": "385a4cec-8388-4af5-b1e8-5bb78740528c"
      },
      "execution_count": null,
      "outputs": [
        {
          "output_type": "stream",
          "name": "stdout",
          "text": [
            "123456\n"
          ]
        }
      ]
    },
    {
      "cell_type": "markdown",
      "source": [
        "17."
      ],
      "metadata": {
        "id": "XLa7O-GQK4xF"
      }
    },
    {
      "cell_type": "code",
      "source": [
        "a = [1, 2, 3]\n",
        "b = a[:]\n",
        "b.append(4)"
      ],
      "metadata": {
        "id": "TPa4NbH0K2nh"
      },
      "execution_count": null,
      "outputs": []
    },
    {
      "cell_type": "code",
      "source": [
        "print(a)"
      ],
      "metadata": {
        "colab": {
          "base_uri": "https://localhost:8080/"
        },
        "id": "y-VTz3wgLClh",
        "outputId": "f44dc3a0-a926-4676-8d0b-d2a71e1211e1"
      },
      "execution_count": null,
      "outputs": [
        {
          "output_type": "stream",
          "name": "stdout",
          "text": [
            "[1, 2, 3]\n"
          ]
        }
      ]
    },
    {
      "cell_type": "code",
      "source": [
        "print(b)"
      ],
      "metadata": {
        "colab": {
          "base_uri": "https://localhost:8080/"
        },
        "id": "hqBm1bqJLDlJ",
        "outputId": "f15e4eba-08eb-448a-b347-89b79db10a0f"
      },
      "execution_count": null,
      "outputs": [
        {
          "output_type": "stream",
          "name": "stdout",
          "text": [
            "[1, 2, 3, 4]\n"
          ]
        }
      ]
    },
    {
      "cell_type": "markdown",
      "source": [
        "18."
      ],
      "metadata": {
        "id": "lXI1tqnPLG8Z"
      }
    },
    {
      "cell_type": "code",
      "source": [
        "s=3*(2+4)**2"
      ],
      "metadata": {
        "id": "Ve8Ul0KLLE2B"
      },
      "execution_count": null,
      "outputs": []
    },
    {
      "cell_type": "code",
      "source": [
        "print(s)"
      ],
      "metadata": {
        "colab": {
          "base_uri": "https://localhost:8080/"
        },
        "id": "5-DRJ5GoLQ_B",
        "outputId": "6c528bbb-e166-4874-8bb0-9aa088bde887"
      },
      "execution_count": null,
      "outputs": [
        {
          "output_type": "stream",
          "name": "stdout",
          "text": [
            "108\n"
          ]
        }
      ]
    },
    {
      "cell_type": "code",
      "source": [
        "type(s)"
      ],
      "metadata": {
        "colab": {
          "base_uri": "https://localhost:8080/"
        },
        "id": "rkDMcwEWLSJx",
        "outputId": "da4dbc7c-8ea8-4944-c3e4-bde618300501"
      },
      "execution_count": null,
      "outputs": [
        {
          "output_type": "execute_result",
          "data": {
            "text/plain": [
              "int"
            ]
          },
          "metadata": {},
          "execution_count": 43
        }
      ]
    },
    {
      "cell_type": "markdown",
      "source": [
        "19."
      ],
      "metadata": {
        "id": "8Tog5KBkLU1V"
      }
    },
    {
      "cell_type": "code",
      "source": [
        "a=5==5.0\n",
        "print(a)"
      ],
      "metadata": {
        "colab": {
          "base_uri": "https://localhost:8080/"
        },
        "id": "uTbsMv5rLTSB",
        "outputId": "d1a45d84-2c44-49c0-91ce-2941c8916750"
      },
      "execution_count": null,
      "outputs": [
        {
          "output_type": "stream",
          "name": "stdout",
          "text": [
            "True\n"
          ]
        }
      ]
    },
    {
      "cell_type": "markdown",
      "source": [
        "20."
      ],
      "metadata": {
        "id": "AcGqWsOLLj7H"
      }
    },
    {
      "cell_type": "code",
      "source": [
        "x=(1, 2, 3)\n",
        "y=x+(4,)"
      ],
      "metadata": {
        "id": "swqNLAJ5LghZ"
      },
      "execution_count": null,
      "outputs": []
    },
    {
      "cell_type": "code",
      "source": [
        "print(y)"
      ],
      "metadata": {
        "colab": {
          "base_uri": "https://localhost:8080/"
        },
        "id": "wURGIGy0LtUZ",
        "outputId": "0df2b099-0d84-4c77-a584-f81436a09514"
      },
      "execution_count": null,
      "outputs": [
        {
          "output_type": "stream",
          "name": "stdout",
          "text": [
            "(1, 2, 3, 4)\n"
          ]
        }
      ]
    },
    {
      "cell_type": "code",
      "source": [],
      "metadata": {
        "id": "Hpdi11G5Luip"
      },
      "execution_count": null,
      "outputs": []
    }
  ]
}