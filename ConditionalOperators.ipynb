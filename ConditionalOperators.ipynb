{
  "nbformat": 4,
  "nbformat_minor": 0,
  "metadata": {
    "colab": {
      "provenance": []
    },
    "kernelspec": {
      "name": "python3",
      "display_name": "Python 3"
    },
    "language_info": {
      "name": "python"
    }
  },
  "cells": [
    {
      "cell_type": "code",
      "execution_count": null,
      "metadata": {
        "colab": {
          "base_uri": "https://localhost:8080/"
        },
        "id": "ta-QbNov_Tb6",
        "outputId": "fbb1539d-73ee-4ec0-821c-894ebcbffb6a"
      },
      "outputs": [
        {
          "output_type": "stream",
          "name": "stdout",
          "text": [
            "enter a number24\n",
            "num is greater than 22\n"
          ]
        }
      ],
      "source": [
        "num=int(input(\"enter a number\"))\n",
        "\n",
        "if num>22:\n",
        "  print(\"num is greater than 22\")\n",
        "\n",
        "else:\n",
        "    print(\"num is less than 22\")"
      ]
    },
    {
      "cell_type": "code",
      "source": [
        "x=int(input(\"enter a number\"))\n",
        "y=int(input(\"enter a number\"))\n",
        "\n",
        "if x>y:\n",
        "  print(\"x is greater than y\")\n",
        "\n",
        "elif x==y:\n",
        "  print(\"both x and y are same\")\n",
        "\n",
        "else:\n",
        "  print(\"x is less than y\")"
      ],
      "metadata": {
        "colab": {
          "base_uri": "https://localhost:8080/"
        },
        "id": "_npClW4fBBua",
        "outputId": "37c8ea80-b7ec-49ad-d168-319d14c1a769"
      },
      "execution_count": null,
      "outputs": [
        {
          "output_type": "stream",
          "name": "stdout",
          "text": [
            "enter a number20\n",
            "enter a number20\n",
            "both x and y are same\n"
          ]
        }
      ]
    },
    {
      "cell_type": "code",
      "source": [
        " #take age of a candidate as input from the user and if the candidate is eligible for voting or not (voting age >=18 years)"
      ],
      "metadata": {
        "id": "pSOiGxxHBXHa"
      },
      "execution_count": null,
      "outputs": []
    },
    {
      "cell_type": "code",
      "source": [
        "age=int(input(\"Enter your age\"))\n",
        "\n",
        "if age>18:\n",
        "  print(\"Eligibile for voting\")\n",
        "\n",
        "elif age>=18:\n",
        "  print(\"Eligible for voting\")\n",
        "\n",
        "else:\n",
        "  print(\"Not Eligible for voting\")"
      ],
      "metadata": {
        "colab": {
          "base_uri": "https://localhost:8080/"
        },
        "id": "wnzJ5pv2EDDt",
        "outputId": "2b541255-46c1-4a8d-ba10-3bc24ab87ab0"
      },
      "execution_count": null,
      "outputs": [
        {
          "output_type": "stream",
          "name": "stdout",
          "text": [
            "Enter your age16\n",
            "Not Eligible for voting\n"
          ]
        }
      ]
    },
    {
      "cell_type": "code",
      "source": [
        "age=int(input(\"Enter your age\"))\n",
        "\n",
        "if age>=18:\n",
        "  print(\"Eligibile for voting\")\n",
        "\n",
        "else:\n",
        "  print(\"Not Eligible for voting\")"
      ],
      "metadata": {
        "colab": {
          "base_uri": "https://localhost:8080/"
        },
        "id": "d7qTovpdErCN",
        "outputId": "8c8a286b-8519-4732-9a48-a64dc02bcc24"
      },
      "execution_count": null,
      "outputs": [
        {
          "output_type": "stream",
          "name": "stdout",
          "text": [
            "Enter your age18\n",
            "Eligibile for voting\n"
          ]
        }
      ]
    },
    {
      "cell_type": "code",
      "source": [
        "#take marks as input from user and give grades to students in the following format\n",
        "#marks more than or equal to 90 -- A\n",
        "#marks more than or equal to 80 -- B\n",
        "#marks more than or equal to 70 -- C\n",
        "#marks more than or equal to 60 -- D\n",
        "#marks less than 60 -- Study Hard"
      ],
      "metadata": {
        "id": "a9tO7UzBFeDG"
      },
      "execution_count": null,
      "outputs": []
    },
    {
      "cell_type": "code",
      "source": [
        "Marks=int(input(\"Enter your marks\"))\n",
        "\n",
        "if Marks>=90:\n",
        "  print(\"A Grade\")\n",
        "\n",
        "elif Marks>=80:\n",
        "  print(\"B Grade\")\n",
        "\n",
        "elif Marks>=70:\n",
        "  print(\"C Grade\")\n",
        "\n",
        "elif Marks>=60:\n",
        "  print(\"D Grade\")\n",
        "\n",
        "else:\n",
        "  print(\"Study Hard\")"
      ],
      "metadata": {
        "colab": {
          "base_uri": "https://localhost:8080/"
        },
        "id": "or1I5vfrGgZv",
        "outputId": "ad37c4da-5ca1-4d87-f190-a5eaa7f6d196"
      },
      "execution_count": null,
      "outputs": [
        {
          "output_type": "stream",
          "name": "stdout",
          "text": [
            "Enter your marks99\n",
            "A Grade\n"
          ]
        }
      ]
    },
    {
      "cell_type": "markdown",
      "source": [
        "In a fare, the entry fee for children less than 4 years of age is free, the entry of children between 4 to 16 years is 100 rs and the entry of people above 16 years is 175 rs\n",
        "\n",
        "take age as input from the user and calculate the entry fee based on the age provided"
      ],
      "metadata": {
        "id": "TjTtve7hIppB"
      }
    },
    {
      "cell_type": "code",
      "source": [
        "age=int(input(\"Enter your age\"))\n",
        "\n",
        "if age>16:\n",
        "  print(\"Your Entry fee is 175 rs\")\n",
        "\n",
        "elif age>=4:\n",
        "  print(\"Your Entry fee is 100 rs\")\n",
        "\n",
        "else:\n",
        "  print(\"You Entry fee is free of cost\")"
      ],
      "metadata": {
        "colab": {
          "base_uri": "https://localhost:8080/"
        },
        "id": "scpmWi8ZHOiH",
        "outputId": "707eed2e-d8c9-4c4c-96fd-64b62e1d1847"
      },
      "execution_count": null,
      "outputs": [
        {
          "output_type": "stream",
          "name": "stdout",
          "text": [
            "Enter your age16\n",
            "Your Entry fee is 100 rs\n"
          ]
        }
      ]
    },
    {
      "cell_type": "code",
      "source": [
        "age=int(input(\"Enter your age\"))\n",
        "\n",
        "if age<4:\n",
        "  print(\"You Entry fee is free of cost\")\n",
        "\n",
        "elif 16>=age>=4:\n",
        "  print(\"Your Entry fee is 100 rs\")\n",
        "\n",
        "else:\n",
        "  print(\"Your Entry fee is 175 rs\")"
      ],
      "metadata": {
        "colab": {
          "base_uri": "https://localhost:8080/"
        },
        "id": "IAws8B2EKXXh",
        "outputId": "904d587d-d33f-45eb-f67f-f12272ab65c4"
      },
      "execution_count": null,
      "outputs": [
        {
          "output_type": "stream",
          "name": "stdout",
          "text": [
            "Enter your age16\n",
            "Your Entry fee is 100 rs\n"
          ]
        }
      ]
    },
    {
      "cell_type": "markdown",
      "source": [
        "take a number as input from the user and check if the number is odd"
      ],
      "metadata": {
        "id": "JxSCmwV5Mxtp"
      }
    },
    {
      "cell_type": "code",
      "source": [
        "x=int(input(\"Enter your number\"))\n",
        "\n",
        "if x%2==0:\n",
        "  print(\"Number is even\")\n",
        "\n",
        "else:\n",
        "  print(\"Number is odd\")"
      ],
      "metadata": {
        "colab": {
          "base_uri": "https://localhost:8080/"
        },
        "id": "FzWvWVKtMt0K",
        "outputId": "77ff6ec5-44af-4ad2-9c4f-e2133802bac8"
      },
      "execution_count": null,
      "outputs": [
        {
          "output_type": "stream",
          "name": "stdout",
          "text": [
            "Enter your number12\n",
            "Number is even\n"
          ]
        }
      ]
    },
    {
      "cell_type": "code",
      "source": [
        "x=int(input(\"Enter your number\"))\n",
        "\n",
        "if x%2!=0:\n",
        "  print(\"Number is odd\")\n",
        "\n",
        "else:\n",
        "  print(\"Number is even\")"
      ],
      "metadata": {
        "colab": {
          "base_uri": "https://localhost:8080/"
        },
        "id": "QEI7m_mENbKj",
        "outputId": "d0458f0f-88f4-42ae-c553-c6c76bdf9f46"
      },
      "execution_count": null,
      "outputs": [
        {
          "output_type": "stream",
          "name": "stdout",
          "text": [
            "Enter your number2\n",
            "Number is even\n"
          ]
        }
      ]
    },
    {
      "cell_type": "code",
      "source": [
        "x=int(input(\"Enter your number\"))\n",
        "\n",
        "if x%2!=0:\n",
        "  print(\"Number is odd\")"
      ],
      "metadata": {
        "colab": {
          "base_uri": "https://localhost:8080/"
        },
        "id": "THDmn4p9Psuk",
        "outputId": "e74f3832-374d-4124-a960-337028723b1e"
      },
      "execution_count": null,
      "outputs": [
        {
          "output_type": "stream",
          "name": "stdout",
          "text": [
            "Enter your number5\n",
            "Number is odd\n"
          ]
        }
      ]
    },
    {
      "cell_type": "markdown",
      "source": [
        "The owner of a company decides to give a bonus of 5% to employees who have been working in this company for a past 5 years or more.\n",
        "\n",
        "Take current salary and years of experience with the current organization as input from the user and display the incremented salary (if any)"
      ],
      "metadata": {
        "id": "tzRbzx8ERT0v"
      }
    },
    {
      "cell_type": "code",
      "source": [
        "Salary=int(input('Enter your current salary'))\n",
        "Experience=int(input('Enter your years of experience'))\n",
        "\n",
        "\n",
        "if Experience>=5:\n",
        "  print('your incremented salary is', Salary+0.05*Salary)\n",
        "\n",
        "else:\n",
        "  print('no increment in salary, your current salary is', Salary)"
      ],
      "metadata": {
        "colab": {
          "base_uri": "https://localhost:8080/"
        },
        "id": "uLcQMj2iQAPl",
        "outputId": "9f47696d-99d4-4e0e-8d42-23db8b9f5f42"
      },
      "execution_count": null,
      "outputs": [
        {
          "output_type": "stream",
          "name": "stdout",
          "text": [
            "Enter your current salary10000\n",
            "Enter your years of experience6\n",
            "your incremented salary is 10500.0\n"
          ]
        }
      ]
    },
    {
      "cell_type": "markdown",
      "source": [
        "Nested Condition"
      ],
      "metadata": {
        "id": "W2kpMnRsLA5P"
      }
    },
    {
      "cell_type": "markdown",
      "source": [
        "Take a number as input from the user and check if the number is greater than 10 or not. Just in case the number is greater than 10, check if the number is greater than 20 also or not."
      ],
      "metadata": {
        "id": "Rbm2iQEIMujZ"
      }
    },
    {
      "cell_type": "code",
      "source": [
        "x=int(input('enter a number'))\n",
        "\n",
        "if x>10:\n",
        "\n",
        "  if x>20:\n",
        "    print('x is greater than 20')\n",
        "\n",
        "  else:\n",
        "    print('x is less than 20 but greater than 10')\n",
        "\n",
        "else:\n",
        "  print('x is less than 10')"
      ],
      "metadata": {
        "id": "Y1sM1a3XUUHQ",
        "colab": {
          "base_uri": "https://localhost:8080/"
        },
        "outputId": "5148a30c-c809-4ffd-b671-323babb06914"
      },
      "execution_count": null,
      "outputs": [
        {
          "output_type": "stream",
          "name": "stdout",
          "text": [
            "enter a number12\n",
            "x is less than 20 but greater than 10\n"
          ]
        }
      ]
    },
    {
      "cell_type": "code",
      "source": [],
      "metadata": {
        "id": "Ha5AI3PnNbR1"
      },
      "execution_count": null,
      "outputs": []
    },
    {
      "cell_type": "markdown",
      "source": [
        "Take a number as input from the user and check if the number is 0 or +ve or -ve using nested statements"
      ],
      "metadata": {
        "id": "fE7MACxDNd9y"
      }
    },
    {
      "cell_type": "code",
      "source": [
        "number=int(input('Enter your number'))\n",
        "\n",
        "if number>=0:\n",
        "  if number==0:\n",
        "    print('your number is 0')\n",
        "  else:\n",
        "    print('your number is +ve')\n",
        "\n",
        "else:\n",
        "  print('your number is -ve')"
      ],
      "metadata": {
        "colab": {
          "base_uri": "https://localhost:8080/"
        },
        "id": "S5a5P6WVNuU3",
        "outputId": "882065aa-2793-4d6f-c712-2cb0e70bb188"
      },
      "execution_count": null,
      "outputs": [
        {
          "output_type": "stream",
          "name": "stdout",
          "text": [
            "Enter your number2\n",
            "your number is +ve\n"
          ]
        }
      ]
    },
    {
      "cell_type": "code",
      "source": [
        "number=int(input('Enter your number'))\n",
        "\n",
        "if number>=0:\n",
        "  if number>0:\n",
        "    print('your number is +ve')\n",
        "  else:\n",
        "    print('your number is 0')\n",
        "\n",
        "else:\n",
        "  print('your number is -ve')"
      ],
      "metadata": {
        "colab": {
          "base_uri": "https://localhost:8080/"
        },
        "id": "jLPQ7j72OSvG",
        "outputId": "66b88dcf-d4dc-4c7f-8c66-3085f0e31753"
      },
      "execution_count": null,
      "outputs": [
        {
          "output_type": "stream",
          "name": "stdout",
          "text": [
            "Enter your number-3\n",
            "your number is -ve\n"
          ]
        }
      ]
    },
    {
      "cell_type": "code",
      "source": [
        "x=int(input('Enter your number'))\n",
        "\n",
        "if x<0:\n",
        "  print('x is -ve')\n",
        "\n",
        "else:\n",
        "\n",
        "  if x>0:\n",
        "    print('x is +ve')\n",
        "\n",
        "  else:\n",
        "    print('x is 0')"
      ],
      "metadata": {
        "colab": {
          "base_uri": "https://localhost:8080/"
        },
        "id": "HSxjX8FIQqR1",
        "outputId": "4815eae9-7989-4038-9c91-e8c2019688c0"
      },
      "execution_count": null,
      "outputs": [
        {
          "output_type": "stream",
          "name": "stdout",
          "text": [
            "Enter your number0\n",
            "x is 0\n"
          ]
        }
      ]
    },
    {
      "cell_type": "code",
      "source": [],
      "metadata": {
        "id": "bZHl9iYNRGrm"
      },
      "execution_count": null,
      "outputs": []
    }
  ]
}