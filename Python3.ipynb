{
  "nbformat": 4,
  "nbformat_minor": 0,
  "metadata": {
    "colab": {
      "provenance": []
    },
    "kernelspec": {
      "name": "python3",
      "display_name": "Python 3"
    },
    "language_info": {
      "name": "python"
    }
  },
  "cells": [
    {
      "cell_type": "code",
      "execution_count": 1,
      "metadata": {
        "colab": {
          "base_uri": "https://localhost:8080/"
        },
        "id": "iozhtnfjP7eq",
        "outputId": "af9b3aac-c550-4056-bc8a-fb891509041f"
      },
      "outputs": [
        {
          "output_type": "stream",
          "name": "stdout",
          "text": [
            "2\n"
          ]
        }
      ],
      "source": [
        "x = 2\n",
        "y = 4\n",
        "\n",
        "for i in range (x,y):\n",
        "  if i == 3:\n",
        "    continue\n",
        "  elif i == 4:\n",
        "      break\n",
        "  else:\n",
        "    print(i)"
      ]
    },
    {
      "cell_type": "code",
      "source": [
        "x=4\n",
        "y=10\n",
        "\n",
        "while x>y:\n",
        "  x-=1\n",
        "  y+=1\n",
        "else:\n",
        "  y-=1\n",
        "  print(y)"
      ],
      "metadata": {
        "colab": {
          "base_uri": "https://localhost:8080/"
        },
        "id": "ZOx3kTPMQrrL",
        "outputId": "ee00c233-792a-4b98-b91c-9ecf04571f8d"
      },
      "execution_count": 2,
      "outputs": [
        {
          "output_type": "stream",
          "name": "stdout",
          "text": [
            "9\n"
          ]
        }
      ]
    },
    {
      "cell_type": "code",
      "source": [
        "x=3\n",
        "y=6\n",
        "\n",
        "if x<y:\n",
        "  if y>10:\n",
        "    z=x+y\n",
        "  else:\n",
        "    z=x-y\n",
        "else:\n",
        "  z=x*y\n",
        "print(z)"
      ],
      "metadata": {
        "colab": {
          "base_uri": "https://localhost:8080/"
        },
        "id": "5o_YSYVJSkbz",
        "outputId": "f4c52c78-71a2-45e9-9f1b-d80f581877c6"
      },
      "execution_count": 3,
      "outputs": [
        {
          "output_type": "stream",
          "name": "stdout",
          "text": [
            "-3\n"
          ]
        }
      ]
    },
    {
      "cell_type": "code",
      "source": [
        "x=5\n",
        "y=3\n",
        "\n",
        "if x <y:\n",
        "  z=x+y\n",
        "elif x>y:\n",
        "  z=x-y\n",
        "else:\n",
        "  z=x*y\n",
        "print(z)"
      ],
      "metadata": {
        "colab": {
          "base_uri": "https://localhost:8080/"
        },
        "id": "_HxZO50UTQEC",
        "outputId": "2181f34b-8a32-499c-e14a-44d3c9c83ba7"
      },
      "execution_count": 4,
      "outputs": [
        {
          "output_type": "stream",
          "name": "stdout",
          "text": [
            "2\n"
          ]
        }
      ]
    },
    {
      "cell_type": "code",
      "source": [
        "x=4\n",
        "y=8\n",
        "\n",
        "for i in range(x,y):\n",
        "  if i%2==0:\n",
        "    continue\n",
        "  else:\n",
        "    print(i)"
      ],
      "metadata": {
        "colab": {
          "base_uri": "https://localhost:8080/"
        },
        "id": "rZTZ0eB-T7ja",
        "outputId": "4fc314d8-ef84-4a6d-c424-a797ed8fdd94"
      },
      "execution_count": 5,
      "outputs": [
        {
          "output_type": "stream",
          "name": "stdout",
          "text": [
            "5\n",
            "7\n"
          ]
        }
      ]
    },
    {
      "cell_type": "code",
      "source": [
        "x=5\n",
        "y=3\n",
        "\n",
        "if x>y:\n",
        "  z=x+y\n",
        "elif x<y:\n",
        "  z=x-y\n",
        "else:\n",
        "  z=x*y\n",
        "print(z)"
      ],
      "metadata": {
        "colab": {
          "base_uri": "https://localhost:8080/"
        },
        "id": "xWLlzCTgUNxy",
        "outputId": "1fb6bef9-2179-4ef7-d9be-89c12c057ae8"
      },
      "execution_count": 6,
      "outputs": [
        {
          "output_type": "stream",
          "name": "stdout",
          "text": [
            "8\n"
          ]
        }
      ]
    },
    {
      "cell_type": "code",
      "source": [
        "my_list=[1, 2, 3, 4, 5]\n",
        "my_list.extend([6, 7])\n",
        "print(my_list)"
      ],
      "metadata": {
        "colab": {
          "base_uri": "https://localhost:8080/"
        },
        "id": "eLu0iawfVGvy",
        "outputId": "fdd4b2dd-3669-4fe7-cf92-cc78250940f6"
      },
      "execution_count": 7,
      "outputs": [
        {
          "output_type": "stream",
          "name": "stdout",
          "text": [
            "[1, 2, 3, 4, 5, 6, 7]\n"
          ]
        }
      ]
    },
    {
      "cell_type": "code",
      "source": [
        "my_tuple = (1,2,3)\n",
        "new_tuple = my_tuple + (4,5,6)\n",
        "print(new_tuple)"
      ],
      "metadata": {
        "colab": {
          "base_uri": "https://localhost:8080/"
        },
        "id": "bChBu0cyVgjK",
        "outputId": "83245fe8-74f7-4212-be56-b1e98fe663cb"
      },
      "execution_count": 8,
      "outputs": [
        {
          "output_type": "stream",
          "name": "stdout",
          "text": [
            "(1, 2, 3, 4, 5, 6)\n"
          ]
        }
      ]
    },
    {
      "cell_type": "code",
      "source": [
        "my_list = [1, 2, 3, 4, 5]\n",
        "new_list = sorted(my_list, reverse=True)\n",
        "print(new_list)"
      ],
      "metadata": {
        "colab": {
          "base_uri": "https://localhost:8080/"
        },
        "id": "qwanK6bIWJNK",
        "outputId": "2dc9c742-319c-47c5-9f77-1b8b2262e298"
      },
      "execution_count": 9,
      "outputs": [
        {
          "output_type": "stream",
          "name": "stdout",
          "text": [
            "[5, 4, 3, 2, 1]\n"
          ]
        }
      ]
    },
    {
      "cell_type": "code",
      "source": [
        "my_list = [1, 2, 3, 4, 5]\n",
        "new_list = my_list[1:3]\n",
        "print(new_list)"
      ],
      "metadata": {
        "colab": {
          "base_uri": "https://localhost:8080/"
        },
        "id": "et35jQ7tWmTC",
        "outputId": "79f9fe9b-9396-4ac3-e419-8583f8956b7a"
      },
      "execution_count": 10,
      "outputs": [
        {
          "output_type": "stream",
          "name": "stdout",
          "text": [
            "[2, 3]\n"
          ]
        }
      ]
    },
    {
      "cell_type": "code",
      "source": [
        "my_tuple = (1, 2, 3, 4, 5)\n",
        "repeated_tuple=my_tuple*3\n",
        "print(repeated_tuple)"
      ],
      "metadata": {
        "id": "ox8soDPzXaFy",
        "colab": {
          "base_uri": "https://localhost:8080/"
        },
        "outputId": "d65088be-dec4-438e-adde-0b9ed15c5ba8"
      },
      "execution_count": 11,
      "outputs": [
        {
          "output_type": "stream",
          "name": "stdout",
          "text": [
            "(1, 2, 3, 4, 5, 1, 2, 3, 4, 5, 1, 2, 3, 4, 5)\n"
          ]
        }
      ]
    },
    {
      "cell_type": "code",
      "source": [
        "my_tuple = (1, 2, 3)\n",
        "new_tuple = my_tuple + (4,)\n",
        "print(new_tuple)"
      ],
      "metadata": {
        "id": "0vB4mYS4Xya6",
        "colab": {
          "base_uri": "https://localhost:8080/"
        },
        "outputId": "2e592d88-a75c-4003-ef16-6cc236ae797e"
      },
      "execution_count": 12,
      "outputs": [
        {
          "output_type": "stream",
          "name": "stdout",
          "text": [
            "(1, 2, 3, 4)\n"
          ]
        }
      ]
    },
    {
      "cell_type": "code",
      "source": [
        "my_tuple = (1, 2, 3, 4, 5)\n",
        "sum_of_tuple = sum(my_tuple)\n",
        "print(sum_of_tuple)"
      ],
      "metadata": {
        "id": "dKQvVtsmYMTi",
        "colab": {
          "base_uri": "https://localhost:8080/"
        },
        "outputId": "b5b47150-ac94-4cfc-eb8a-c50b33890aac"
      },
      "execution_count": 13,
      "outputs": [
        {
          "output_type": "stream",
          "name": "stdout",
          "text": [
            "15\n"
          ]
        }
      ]
    },
    {
      "cell_type": "code",
      "source": [
        "my_list = [1, 2, 3, 4, 5]\n",
        "del my_list[2]\n",
        "print(my_list)"
      ],
      "metadata": {
        "id": "toLjk1NKYtXa",
        "colab": {
          "base_uri": "https://localhost:8080/"
        },
        "outputId": "fd378daf-7a79-4d98-e7aa-233b7473a36b"
      },
      "execution_count": 14,
      "outputs": [
        {
          "output_type": "stream",
          "name": "stdout",
          "text": [
            "[1, 2, 4, 5]\n"
          ]
        }
      ]
    },
    {
      "cell_type": "code",
      "source": [
        "my_list = [1, 2, 3, 4, 5]\n",
        "my_list.remove(3)\n",
        "print(my_list)"
      ],
      "metadata": {
        "id": "shKNg1nFYjwi",
        "colab": {
          "base_uri": "https://localhost:8080/"
        },
        "outputId": "74c21a8e-3ea3-4335-c5f6-11a803d2ac7b"
      },
      "execution_count": 15,
      "outputs": [
        {
          "output_type": "stream",
          "name": "stdout",
          "text": [
            "[1, 2, 4, 5]\n"
          ]
        }
      ]
    },
    {
      "cell_type": "code",
      "source": [
        "my_list = [1, 2, 3, 4, 5]\n",
        "my_list.insert(2, 10)\n",
        "print(my_list)"
      ],
      "metadata": {
        "id": "yFaQy5E1ZFCa",
        "colab": {
          "base_uri": "https://localhost:8080/"
        },
        "outputId": "46fca082-f2ea-4e4b-a749-cf1477c357d1"
      },
      "execution_count": 16,
      "outputs": [
        {
          "output_type": "stream",
          "name": "stdout",
          "text": [
            "[1, 2, 10, 3, 4, 5]\n"
          ]
        }
      ]
    },
    {
      "cell_type": "code",
      "source": [
        "my_tuple = (1, 2, 3, 4, 5)\n",
        "new_tuple = my_tuple[-3:-1]\n",
        "print(new_tuple)"
      ],
      "metadata": {
        "id": "6nHeZuqRZYqC",
        "colab": {
          "base_uri": "https://localhost:8080/"
        },
        "outputId": "3f1a53f3-2870-4cc1-f19d-784d6396831c"
      },
      "execution_count": 17,
      "outputs": [
        {
          "output_type": "stream",
          "name": "stdout",
          "text": [
            "(3, 4)\n"
          ]
        }
      ]
    },
    {
      "cell_type": "code",
      "source": [
        "my_tuple = (1, 2, 3, 4, 5)\n",
        "new_tuple = my_tuple[::-1]\n",
        "print(new_tuple)"
      ],
      "metadata": {
        "id": "GSmRwE1qZy_C",
        "colab": {
          "base_uri": "https://localhost:8080/"
        },
        "outputId": "62535d6b-8bb4-4a22-b625-4fb6e8de5137"
      },
      "execution_count": 18,
      "outputs": [
        {
          "output_type": "stream",
          "name": "stdout",
          "text": [
            "(5, 4, 3, 2, 1)\n"
          ]
        }
      ]
    },
    {
      "cell_type": "code",
      "source": [
        "my_list = [1,2,3,4,5]\n",
        "repeated_list = my_list*2\n",
        "print(repeated_list)"
      ],
      "metadata": {
        "id": "LdFsfQpFaD2K",
        "colab": {
          "base_uri": "https://localhost:8080/"
        },
        "outputId": "8f688a6a-ae43-44a4-9230-afe2f8760404"
      },
      "execution_count": 19,
      "outputs": [
        {
          "output_type": "stream",
          "name": "stdout",
          "text": [
            "[1, 2, 3, 4, 5, 1, 2, 3, 4, 5]\n"
          ]
        }
      ]
    },
    {
      "cell_type": "code",
      "source": [
        "x=3\n",
        "y=6\n",
        "while x<y:\n",
        "  if y%2==0:\n",
        "    x+=y\n",
        "  else:\n",
        "    x-=y\n",
        "print(x)"
      ],
      "metadata": {
        "id": "oMw04an9aTKy",
        "colab": {
          "base_uri": "https://localhost:8080/"
        },
        "outputId": "9c7ba2e7-ce91-4ce7-e568-f5618114225f"
      },
      "execution_count": 20,
      "outputs": [
        {
          "output_type": "stream",
          "name": "stdout",
          "text": [
            "9\n"
          ]
        }
      ]
    },
    {
      "cell_type": "code",
      "source": [
        "def count_vowels(word):\n",
        "  vowels = ['a', 'e', 'i', 'o', 'u']\n",
        "  count = 0\n",
        "  for letter in word:\n",
        "    if letter.lower() in vowels:\n",
        "      count += 1\n",
        "  return count"
      ],
      "metadata": {
        "id": "MTdXPvzta2Fp"
      },
      "execution_count": 21,
      "outputs": []
    },
    {
      "cell_type": "code",
      "source": [
        "word=\"Hello World\"\n",
        "result=count_vowels(word)\n",
        "print(result)"
      ],
      "metadata": {
        "id": "eFELY4EXbPhy",
        "colab": {
          "base_uri": "https://localhost:8080/"
        },
        "outputId": "1eabac1e-826c-4448-e749-499bc1c0e1f4"
      },
      "execution_count": 22,
      "outputs": [
        {
          "output_type": "stream",
          "name": "stdout",
          "text": [
            "3\n"
          ]
        }
      ]
    },
    {
      "cell_type": "code",
      "source": [
        "def calculate_average(nums):\n",
        "  return sum(nums)/len(nums)"
      ],
      "metadata": {
        "id": "H1DMmpaKbWL6"
      },
      "execution_count": 23,
      "outputs": []
    },
    {
      "cell_type": "code",
      "source": [
        "my_nums=[1,2,3,4,5]\n",
        "result=calculate_average(my_nums)\n",
        "print(result)"
      ],
      "metadata": {
        "id": "8gW1-BPpb1bC",
        "colab": {
          "base_uri": "https://localhost:8080/"
        },
        "outputId": "452d5d35-3eba-4bcb-b5a2-bed73ba8ac4c"
      },
      "execution_count": 24,
      "outputs": [
        {
          "output_type": "stream",
          "name": "stdout",
          "text": [
            "3.0\n"
          ]
        }
      ]
    },
    {
      "cell_type": "code",
      "source": [
        "def find_average(nums):\n",
        "  positive_nums=[num for num in nums if num>0]\n",
        "  return sum(positive_nums)/len(positive_nums)"
      ],
      "metadata": {
        "id": "-6_yTNkqb5uK"
      },
      "execution_count": 25,
      "outputs": []
    },
    {
      "cell_type": "code",
      "source": [
        "my_nums=[-1,2,-3,4,-5]\n",
        "result=find_average(my_nums)\n",
        "print(result)"
      ],
      "metadata": {
        "id": "kUX13UFscYwq",
        "colab": {
          "base_uri": "https://localhost:8080/"
        },
        "outputId": "1b4d9a4c-0be5-418e-bd58-4961f0987029"
      },
      "execution_count": 26,
      "outputs": [
        {
          "output_type": "stream",
          "name": "stdout",
          "text": [
            "3.0\n"
          ]
        }
      ]
    },
    {
      "cell_type": "code",
      "source": [
        "def modify_list(lst):\n",
        "  lst.append(4)"
      ],
      "metadata": {
        "id": "aM-LbG-AcefK"
      },
      "execution_count": 27,
      "outputs": []
    },
    {
      "cell_type": "code",
      "source": [
        "my_list = [1,2,3]\n",
        "modify_list(my_list)\n",
        "print(len(my_list))"
      ],
      "metadata": {
        "id": "Tcw_y45Vcym5",
        "colab": {
          "base_uri": "https://localhost:8080/"
        },
        "outputId": "78e21601-aad2-4e62-ebcf-92089f7ac342"
      },
      "execution_count": 28,
      "outputs": [
        {
          "output_type": "stream",
          "name": "stdout",
          "text": [
            "4\n"
          ]
        }
      ]
    },
    {
      "cell_type": "code",
      "source": [
        "def remove_duplicates(string):\n",
        "  unique_chars = []\n",
        "\n",
        "  for char in string:\n",
        "    if char not in unique_chars:\n",
        "      unique_chars.append(char)\n",
        "\n",
        "  return ''.join(unique_chars)"
      ],
      "metadata": {
        "id": "DBBrZ6O4c6ta"
      },
      "execution_count": 29,
      "outputs": []
    },
    {
      "cell_type": "code",
      "source": [
        "my_string = \"abracadabra\"\n",
        "result = remove_duplicates(my_string)\n",
        "print(result)"
      ],
      "metadata": {
        "id": "dhi6neAad3Ax",
        "colab": {
          "base_uri": "https://localhost:8080/"
        },
        "outputId": "1c029e0c-25d8-4bb6-81bf-17d0fd502afa"
      },
      "execution_count": 30,
      "outputs": [
        {
          "output_type": "stream",
          "name": "stdout",
          "text": [
            "abrcd\n"
          ]
        }
      ]
    },
    {
      "cell_type": "code",
      "source": [
        "x = 4\n",
        "result = x > 5\n",
        "print(result)"
      ],
      "metadata": {
        "id": "3FEussVoeF1S",
        "colab": {
          "base_uri": "https://localhost:8080/"
        },
        "outputId": "5a026097-6f67-47be-8f6a-39ef549b2c99"
      },
      "execution_count": 31,
      "outputs": [
        {
          "output_type": "stream",
          "name": "stdout",
          "text": [
            "False\n"
          ]
        }
      ]
    },
    {
      "cell_type": "code",
      "source": [
        "x = \"Python\"\n",
        "result = x[1:5:2]\n",
        "print(result)"
      ],
      "metadata": {
        "id": "2KDyPWOUepPx",
        "colab": {
          "base_uri": "https://localhost:8080/"
        },
        "outputId": "dbf0e0a9-185d-4373-d427-ddee530d1c67"
      },
      "execution_count": 32,
      "outputs": [
        {
          "output_type": "stream",
          "name": "stdout",
          "text": [
            "yh\n"
          ]
        }
      ]
    },
    {
      "cell_type": "code",
      "source": [
        "x = True\n",
        "y = False\n",
        "result = x or y\n",
        "print(result)"
      ],
      "metadata": {
        "id": "mpEw4rsbe00a",
        "colab": {
          "base_uri": "https://localhost:8080/"
        },
        "outputId": "1322c3d1-b173-49d9-c809-87a482ed38e6"
      },
      "execution_count": 33,
      "outputs": [
        {
          "output_type": "stream",
          "name": "stdout",
          "text": [
            "True\n"
          ]
        }
      ]
    },
    {
      "cell_type": "code",
      "source": [
        "x = 5\n",
        "y = \"2\"\n",
        "\n",
        "result = str(x) + y\n",
        "print(result)"
      ],
      "metadata": {
        "id": "svqq2IIvfDJJ",
        "colab": {
          "base_uri": "https://localhost:8080/"
        },
        "outputId": "258567d1-93c0-4d1c-8470-253932dc7625"
      },
      "execution_count": 34,
      "outputs": [
        {
          "output_type": "stream",
          "name": "stdout",
          "text": [
            "52\n"
          ]
        }
      ]
    },
    {
      "cell_type": "code",
      "source": [],
      "metadata": {
        "id": "uJS-thiJfRja"
      },
      "execution_count": 34,
      "outputs": []
    }
  ]
}