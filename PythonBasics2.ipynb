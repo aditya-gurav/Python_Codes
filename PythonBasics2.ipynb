{
  "nbformat": 4,
  "nbformat_minor": 0,
  "metadata": {
    "colab": {
      "provenance": []
    },
    "kernelspec": {
      "name": "python3",
      "display_name": "Python 3"
    },
    "language_info": {
      "name": "python"
    }
  },
  "cells": [
    {
      "cell_type": "markdown",
      "source": [
        "Built in Functions with respect to Strings and Lists"
      ],
      "metadata": {
        "id": "5JjYTJ-JrrKO"
      }
    },
    {
      "cell_type": "code",
      "source": [
        "#Strings"
      ],
      "metadata": {
        "id": "CaTpfZacuCCw"
      },
      "execution_count": null,
      "outputs": []
    },
    {
      "cell_type": "code",
      "execution_count": null,
      "metadata": {
        "id": "iZAlFGxDqkr-"
      },
      "outputs": [],
      "source": [
        "a='aditya'"
      ]
    },
    {
      "cell_type": "code",
      "source": [
        "print(a)"
      ],
      "metadata": {
        "colab": {
          "base_uri": "https://localhost:8080/"
        },
        "id": "rYJryW_dq3jb",
        "outputId": "89cf9b1d-d9e2-4033-e0db-066913691bc3"
      },
      "execution_count": null,
      "outputs": [
        {
          "output_type": "stream",
          "name": "stdout",
          "text": [
            "aditya\n"
          ]
        }
      ]
    },
    {
      "cell_type": "code",
      "source": [
        "print(a.count('a'))"
      ],
      "metadata": {
        "colab": {
          "base_uri": "https://localhost:8080/"
        },
        "id": "fKEu_DvRtg2d",
        "outputId": "4e2cd136-5d75-4174-d067-f80f9bca3d77"
      },
      "execution_count": null,
      "outputs": [
        {
          "output_type": "stream",
          "name": "stdout",
          "text": [
            "2\n"
          ]
        }
      ]
    },
    {
      "cell_type": "code",
      "source": [
        "print(a.upper())"
      ],
      "metadata": {
        "colab": {
          "base_uri": "https://localhost:8080/"
        },
        "id": "qC9abF-qrK70",
        "outputId": "9796cfe1-7753-4b71-a0b8-d756a81e646d"
      },
      "execution_count": null,
      "outputs": [
        {
          "output_type": "stream",
          "name": "stdout",
          "text": [
            "ADITYA\n"
          ]
        }
      ]
    },
    {
      "cell_type": "code",
      "source": [
        "print(a.lower())"
      ],
      "metadata": {
        "colab": {
          "base_uri": "https://localhost:8080/"
        },
        "id": "LAGQQih5raEb",
        "outputId": "07d1b9ab-f704-4890-8c19-abaa50ee5e3a"
      },
      "execution_count": null,
      "outputs": [
        {
          "output_type": "stream",
          "name": "stdout",
          "text": [
            "aditya\n"
          ]
        }
      ]
    },
    {
      "cell_type": "code",
      "source": [
        "print(a.capitalize())"
      ],
      "metadata": {
        "colab": {
          "base_uri": "https://localhost:8080/"
        },
        "id": "MGj-rbhRrjpr",
        "outputId": "ab8532bf-b099-4b1a-d33f-de982ff93fc2"
      },
      "execution_count": null,
      "outputs": [
        {
          "output_type": "stream",
          "name": "stdout",
          "text": [
            "Aditya\n"
          ]
        }
      ]
    },
    {
      "cell_type": "code",
      "source": [
        "b=a.capitalize()"
      ],
      "metadata": {
        "id": "6NGdnJg6ts53"
      },
      "execution_count": null,
      "outputs": []
    },
    {
      "cell_type": "code",
      "source": [
        "print(len(a))"
      ],
      "metadata": {
        "colab": {
          "base_uri": "https://localhost:8080/"
        },
        "id": "jnW38WCfsdhz",
        "outputId": "0ff8bde1-cd3f-4109-d899-c1be3d61fa7f"
      },
      "execution_count": null,
      "outputs": [
        {
          "output_type": "stream",
          "name": "stdout",
          "text": [
            "6\n"
          ]
        }
      ]
    },
    {
      "cell_type": "code",
      "source": [
        "print(b.count('A'))"
      ],
      "metadata": {
        "colab": {
          "base_uri": "https://localhost:8080/"
        },
        "id": "oqoj91qGtyEZ",
        "outputId": "d1f60913-a19e-438f-e8a7-5912b477f70a"
      },
      "execution_count": null,
      "outputs": [
        {
          "output_type": "stream",
          "name": "stdout",
          "text": [
            "1\n"
          ]
        }
      ]
    },
    {
      "cell_type": "code",
      "source": [
        "#Replace Element"
      ],
      "metadata": {
        "id": "HY-hSjrcs3vD"
      },
      "execution_count": null,
      "outputs": []
    },
    {
      "cell_type": "code",
      "source": [
        "statement='Hello I am doing good, I am going to Pune next weekend, I am going to stay for 8 weeks.'"
      ],
      "metadata": {
        "id": "ODw_9JHbro-r"
      },
      "execution_count": null,
      "outputs": []
    },
    {
      "cell_type": "code",
      "source": [
        "print(statement)"
      ],
      "metadata": {
        "colab": {
          "base_uri": "https://localhost:8080/"
        },
        "id": "ZydR8uhjsKjT",
        "outputId": "39b7d3b5-1039-4d32-d68e-82e8aa68da14"
      },
      "execution_count": null,
      "outputs": [
        {
          "output_type": "stream",
          "name": "stdout",
          "text": [
            "Hello I am doing good, I am going to Pune next weekend, I am going to stay for 8 weeks.\n"
          ]
        }
      ]
    },
    {
      "cell_type": "code",
      "source": [
        "print(statement.replace(\"I am\", \"We are\"))"
      ],
      "metadata": {
        "colab": {
          "base_uri": "https://localhost:8080/"
        },
        "id": "9Z8kZyCKsM4L",
        "outputId": "f98a9f50-98da-483b-ca13-a79feddf2767"
      },
      "execution_count": null,
      "outputs": [
        {
          "output_type": "stream",
          "name": "stdout",
          "text": [
            "Hello We are doing good, We are going to Pune next weekend, We are going to stay for 8 weeks.\n"
          ]
        }
      ]
    },
    {
      "cell_type": "code",
      "source": [
        "print(statement.replace(\"I am\", \"We are\", 1))"
      ],
      "metadata": {
        "colab": {
          "base_uri": "https://localhost:8080/"
        },
        "id": "ymz3qA8esYsj",
        "outputId": "1f73968f-188e-4bc2-bec0-369ae279e2a4"
      },
      "execution_count": null,
      "outputs": [
        {
          "output_type": "stream",
          "name": "stdout",
          "text": [
            "Hello We are doing good, I am going to Pune next weekend, I am going to stay for 8 weeks.\n"
          ]
        }
      ]
    },
    {
      "cell_type": "code",
      "source": [
        "#Lists"
      ],
      "metadata": {
        "id": "s_bcZToJsqFL"
      },
      "execution_count": null,
      "outputs": []
    },
    {
      "cell_type": "code",
      "source": [
        "my_list=['AI', 'ML', 'Python', 'NLP']"
      ],
      "metadata": {
        "id": "SsxkhOpzuF8i"
      },
      "execution_count": null,
      "outputs": []
    },
    {
      "cell_type": "code",
      "source": [
        "my_list.append('Computer Vision')"
      ],
      "metadata": {
        "id": "KmjOLrP5uOgq"
      },
      "execution_count": null,
      "outputs": []
    },
    {
      "cell_type": "code",
      "source": [
        "print(my_list)"
      ],
      "metadata": {
        "colab": {
          "base_uri": "https://localhost:8080/"
        },
        "id": "i5pJiCO1ufBi",
        "outputId": "42eac05b-a99a-400d-cb38-3c1782b0dec9"
      },
      "execution_count": null,
      "outputs": [
        {
          "output_type": "stream",
          "name": "stdout",
          "text": [
            "['AI', 'ML', 'Python', 'NLP', 'Computer Vision']\n"
          ]
        }
      ]
    },
    {
      "cell_type": "code",
      "source": [
        "my_list.insert(2,'Computer Vision')"
      ],
      "metadata": {
        "id": "TWgWBUX4uijS"
      },
      "execution_count": null,
      "outputs": []
    },
    {
      "cell_type": "code",
      "source": [
        "print(my_list)"
      ],
      "metadata": {
        "colab": {
          "base_uri": "https://localhost:8080/"
        },
        "id": "-Ce9N97gu7J3",
        "outputId": "22a3406a-8ca0-40dd-9e4d-fa1c29d98835"
      },
      "execution_count": null,
      "outputs": [
        {
          "output_type": "stream",
          "name": "stdout",
          "text": [
            "['AI', 'ML', 'Computer Vision', 'Python', 'NLP', 'Computer Vision']\n"
          ]
        }
      ]
    },
    {
      "cell_type": "code",
      "source": [
        "my_list.remove('Computer Vision')"
      ],
      "metadata": {
        "id": "aUufuawEuuqy"
      },
      "execution_count": null,
      "outputs": []
    },
    {
      "cell_type": "code",
      "source": [
        "print(my_list)"
      ],
      "metadata": {
        "colab": {
          "base_uri": "https://localhost:8080/"
        },
        "id": "LRrRG_gku17i",
        "outputId": "12b54e87-0698-4d3a-90a1-b501aa1d377f"
      },
      "execution_count": null,
      "outputs": [
        {
          "output_type": "stream",
          "name": "stdout",
          "text": [
            "['AI', 'ML', 'Python', 'NLP', 'Computer Vision']\n"
          ]
        }
      ]
    },
    {
      "cell_type": "code",
      "source": [
        "my_list.insert(2,'Computer Vision')"
      ],
      "metadata": {
        "id": "DmgrhCteu5bS"
      },
      "execution_count": null,
      "outputs": []
    },
    {
      "cell_type": "code",
      "source": [
        "print(my_list)"
      ],
      "metadata": {
        "colab": {
          "base_uri": "https://localhost:8080/"
        },
        "id": "d2G6YJYKvQKJ",
        "outputId": "d206f261-7b74-47c3-c56b-12079d1d536a"
      },
      "execution_count": null,
      "outputs": [
        {
          "output_type": "stream",
          "name": "stdout",
          "text": [
            "['AI', 'ML', 'Computer Vision', 'Python', 'NLP', 'Computer Vision']\n"
          ]
        }
      ]
    },
    {
      "cell_type": "code",
      "source": [
        "my_list.pop(2)"
      ],
      "metadata": {
        "colab": {
          "base_uri": "https://localhost:8080/",
          "height": 35
        },
        "id": "lXiI3pThvSUB",
        "outputId": "bbab1669-e6a4-4d99-a973-5dc6b5cc8996"
      },
      "execution_count": null,
      "outputs": [
        {
          "output_type": "execute_result",
          "data": {
            "text/plain": [
              "'Computer Vision'"
            ],
            "application/vnd.google.colaboratory.intrinsic+json": {
              "type": "string"
            }
          },
          "metadata": {},
          "execution_count": 55
        }
      ]
    },
    {
      "cell_type": "code",
      "source": [
        "print(my_list)"
      ],
      "metadata": {
        "colab": {
          "base_uri": "https://localhost:8080/"
        },
        "id": "zfjTydvPvl9x",
        "outputId": "505ba6eb-cc89-429b-b9c1-356a4d6a1dba"
      },
      "execution_count": null,
      "outputs": [
        {
          "output_type": "stream",
          "name": "stdout",
          "text": [
            "['AI', 'ML', 'Python', 'NLP', 'Computer Vision']\n"
          ]
        }
      ]
    },
    {
      "cell_type": "code",
      "source": [
        "my_list.extend(['Data Science', 'Data Analytics'])"
      ],
      "metadata": {
        "id": "5Wvw4uvBv6qJ"
      },
      "execution_count": null,
      "outputs": []
    },
    {
      "cell_type": "code",
      "source": [
        "print(my_list)"
      ],
      "metadata": {
        "colab": {
          "base_uri": "https://localhost:8080/"
        },
        "id": "bmBgIznLwXzp",
        "outputId": "d25fe852-f072-4ff2-af05-bcb23c9281ae"
      },
      "execution_count": null,
      "outputs": [
        {
          "output_type": "stream",
          "name": "stdout",
          "text": [
            "['AI', 'ML', 'Python', 'NLP', 'Computer Vision', 'Data Science', 'Data Analytics']\n"
          ]
        }
      ]
    },
    {
      "cell_type": "code",
      "source": [
        "print(len(my_list))"
      ],
      "metadata": {
        "colab": {
          "base_uri": "https://localhost:8080/"
        },
        "id": "AXeQ-EmGwh8J",
        "outputId": "808c6086-18c7-40f6-c904-6a2931ff14b0"
      },
      "execution_count": null,
      "outputs": [
        {
          "output_type": "stream",
          "name": "stdout",
          "text": [
            "7\n"
          ]
        }
      ]
    },
    {
      "cell_type": "code",
      "source": [
        "my_numbers=[2,4,6,8,10,12,14,16,18,20,22]"
      ],
      "metadata": {
        "id": "hh0KIYSkwxIE"
      },
      "execution_count": null,
      "outputs": []
    },
    {
      "cell_type": "code",
      "source": [
        "print(my_numbers)"
      ],
      "metadata": {
        "colab": {
          "base_uri": "https://localhost:8080/"
        },
        "id": "qkD4nsAjw5Ep",
        "outputId": "7835f301-997f-4b94-d8b1-cb7c5f0671cc"
      },
      "execution_count": null,
      "outputs": [
        {
          "output_type": "stream",
          "name": "stdout",
          "text": [
            "[2, 4, 6, 8, 10, 12, 14, 16, 18, 20, 22]\n"
          ]
        }
      ]
    },
    {
      "cell_type": "code",
      "source": [
        "print(max(my_numbers))"
      ],
      "metadata": {
        "colab": {
          "base_uri": "https://localhost:8080/"
        },
        "id": "_L6tY4GSw7RB",
        "outputId": "5b22c3ee-1eae-45c2-b4ae-1026090bb02f"
      },
      "execution_count": null,
      "outputs": [
        {
          "output_type": "stream",
          "name": "stdout",
          "text": [
            "22\n"
          ]
        }
      ]
    },
    {
      "cell_type": "code",
      "source": [
        "print(min(my_numbers))"
      ],
      "metadata": {
        "colab": {
          "base_uri": "https://localhost:8080/"
        },
        "id": "mBxN3IspxER5",
        "outputId": "2968ed0b-95c2-4ca8-a22b-0fa7e523db0e"
      },
      "execution_count": null,
      "outputs": [
        {
          "output_type": "stream",
          "name": "stdout",
          "text": [
            "2\n"
          ]
        }
      ]
    },
    {
      "cell_type": "code",
      "source": [
        "print(sum(my_numbers))"
      ],
      "metadata": {
        "colab": {
          "base_uri": "https://localhost:8080/"
        },
        "id": "Whi0WQJpxHoB",
        "outputId": "f44255f0-052a-4434-a579-59d2ff05f446"
      },
      "execution_count": null,
      "outputs": [
        {
          "output_type": "stream",
          "name": "stdout",
          "text": [
            "132\n"
          ]
        }
      ]
    },
    {
      "cell_type": "code",
      "source": [
        "print(my_numbers.count(2))"
      ],
      "metadata": {
        "colab": {
          "base_uri": "https://localhost:8080/"
        },
        "id": "q5FP4Bt6xKl5",
        "outputId": "caf76e3f-999b-4fab-8a5b-000a2beef2cf"
      },
      "execution_count": null,
      "outputs": [
        {
          "output_type": "stream",
          "name": "stdout",
          "text": [
            "1\n"
          ]
        }
      ]
    },
    {
      "cell_type": "code",
      "source": [
        "my_numbers.sort(reverse=True)"
      ],
      "metadata": {
        "id": "5eMjO8GkxhNB"
      },
      "execution_count": null,
      "outputs": []
    },
    {
      "cell_type": "code",
      "source": [
        "print(my_numbers)"
      ],
      "metadata": {
        "colab": {
          "base_uri": "https://localhost:8080/"
        },
        "id": "zWuPELmBxnCy",
        "outputId": "5c6de4e7-6725-44e5-9684-037c35d66e6b"
      },
      "execution_count": null,
      "outputs": [
        {
          "output_type": "stream",
          "name": "stdout",
          "text": [
            "[22, 20, 18, 16, 14, 12, 10, 8, 6, 4, 2]\n"
          ]
        }
      ]
    },
    {
      "cell_type": "code",
      "source": [
        "#Nested_Lists"
      ],
      "metadata": {
        "id": "Dzp5dcnpyW8g"
      },
      "execution_count": null,
      "outputs": []
    },
    {
      "cell_type": "code",
      "source": [
        "L1=['India', 'USA', ['China', 10, 25,-6.9]]"
      ],
      "metadata": {
        "id": "FwKvJUEjxqtp"
      },
      "execution_count": null,
      "outputs": []
    },
    {
      "cell_type": "code",
      "source": [
        "print(L1)"
      ],
      "metadata": {
        "colab": {
          "base_uri": "https://localhost:8080/"
        },
        "id": "5hqnXMkRyMhJ",
        "outputId": "ed1958c6-a45e-4c76-ab3b-99dbbe275858"
      },
      "execution_count": null,
      "outputs": [
        {
          "output_type": "stream",
          "name": "stdout",
          "text": [
            "['India', 'USA', ['China', 10, 25, -6.9]]\n"
          ]
        }
      ]
    },
    {
      "cell_type": "code",
      "source": [
        "L1[2][0]"
      ],
      "metadata": {
        "colab": {
          "base_uri": "https://localhost:8080/",
          "height": 35
        },
        "id": "TFboyX3N1Gv_",
        "outputId": "41cb7740-e6ae-4635-cb83-07c051e791c9"
      },
      "execution_count": null,
      "outputs": [
        {
          "output_type": "execute_result",
          "data": {
            "text/plain": [
              "'China'"
            ],
            "application/vnd.google.colaboratory.intrinsic+json": {
              "type": "string"
            }
          },
          "metadata": {},
          "execution_count": 94
        }
      ]
    },
    {
      "cell_type": "code",
      "source": [],
      "metadata": {
        "id": "G3FFrbn81IIA"
      },
      "execution_count": null,
      "outputs": []
    }
  ]
}