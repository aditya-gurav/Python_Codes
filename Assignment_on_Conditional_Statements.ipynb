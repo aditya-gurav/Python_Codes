{
  "nbformat": 4,
  "nbformat_minor": 0,
  "metadata": {
    "colab": {
      "provenance": []
    },
    "kernelspec": {
      "name": "python3",
      "display_name": "Python 3"
    },
    "language_info": {
      "name": "python"
    }
  },
  "cells": [
    {
      "cell_type": "markdown",
      "source": [
        "Take three numbers 'x', 'y' and 'z' as input from the user and check which number is greater\n"
      ],
      "metadata": {
        "id": "AcR_27Hh5QTe"
      }
    },
    {
      "cell_type": "code",
      "source": [
        "x = float(input(\"Enter the number x : \"))\n",
        "y = float(input(\"Enter the number y : \"))\n",
        "z = float(input(\"Enter the number z : \"))\n",
        "\n",
        "if x > y and x > z:\n",
        "    print(\"The greatest number is x :\", x)\n",
        "elif y > x and y > z:\n",
        "    print(\"The greatest number is y :\", y)\n",
        "else:\n",
        "    print(\"The greatest number is z :\", z)"
      ],
      "metadata": {
        "id": "ZqmjTxbD5QG4",
        "colab": {
          "base_uri": "https://localhost:8080/"
        },
        "outputId": "3b930e5c-f056-4ae7-ee90-c4c83da0f91b"
      },
      "execution_count": null,
      "outputs": [
        {
          "output_type": "stream",
          "name": "stdout",
          "text": [
            "Enter the number x : 70\n",
            "Enter the number y : 52\n",
            "Enter the number z : 88\n",
            "The greatest number is z : 88.0\n"
          ]
        }
      ]
    },
    {
      "cell_type": "markdown",
      "source": [
        "Take an alphabet as input from the user and check if the alphabet is a vowel, consonant or an exception\n",
        "\n",
        "\n",
        "Vowel - 'a','e','i','o','u'\n",
        "\n",
        "Exception - 'h', 'y'\n",
        "\n",
        "Consonant - rest other alphabets"
      ],
      "metadata": {
        "id": "QgkCsQlx4c5Y"
      }
    },
    {
      "cell_type": "code",
      "source": [
        "alphabet = input(\"Enter your alphabet : \").lower()\n",
        "vowels = ['a','e','i','o','u']\n",
        "exception = ['h','y']\n",
        "\n",
        "if alphabet in vowels:\n",
        "    print(\"Your alphabet is a vowel\")\n",
        "elif alphabet in exception:\n",
        "    print(\"Your alphabet is an exception\")\n",
        "else:\n",
        "    print(\"Your alphabet is a consonant\")\n"
      ],
      "metadata": {
        "id": "mTRgMPbt4dTk",
        "colab": {
          "base_uri": "https://localhost:8080/"
        },
        "outputId": "8224bcf3-7180-41b5-c667-53abd91815b3"
      },
      "execution_count": null,
      "outputs": [
        {
          "output_type": "stream",
          "name": "stdout",
          "text": [
            "Enter your alphabet : A\n",
            "Your alphabet is a vowel\n"
          ]
        }
      ]
    },
    {
      "cell_type": "markdown",
      "source": [
        "Write a program to check whether a number given by a user is divisible by 2 and 3 both"
      ],
      "metadata": {
        "id": "5TqcIsuG4N4x"
      }
    },
    {
      "cell_type": "code",
      "source": [
        "number= int(input(\"Enter your number : \"))\n",
        "\n",
        "if number % 2 == 0 and number % 3 == 0:\n",
        "    print(\"Your number is divisible by both 2 and 3\")\n",
        "else:\n",
        "    print(\"Your number is not divisible by both 2 and 3\")"
      ],
      "metadata": {
        "id": "1TobEmuY4NkT",
        "colab": {
          "base_uri": "https://localhost:8080/"
        },
        "outputId": "a56b6250-be92-4de6-bd22-43c975315417"
      },
      "execution_count": null,
      "outputs": [
        {
          "output_type": "stream",
          "name": "stdout",
          "text": [
            "Enter your number : 16\n",
            "Your number is not divisible by both 2 and 3\n"
          ]
        }
      ]
    },
    {
      "cell_type": "markdown",
      "source": [
        "Write a program to accept the cost price  of a bike as input and display the road tax to be paid according to the following crieteria :-\n",
        "\n",
        "Cost price - 100000 Tax - 15%\n",
        "\n",
        "Cost price - between 50000 to 100000 Tax - 10%\n",
        "\n",
        "Cost price - less than 50000 Tax - 5%"
      ],
      "metadata": {
        "id": "Vl0l7eM93o-k"
      }
    },
    {
      "cell_type": "code",
      "source": [
        "price = int(input(\"Enter the cost price of your bike : \"))\n",
        "\n",
        "if price >= 100000:\n",
        "  print(\"The road tax to be paid for the bike is\" ,0.15 * price)\n",
        "\n",
        "elif price >= 50000 and price < 100000:\n",
        "  print(\"The road tax to be paid for the bike is\" ,0.10 * price)\n",
        "\n",
        "else:\n",
        "  print(\"The road tax to be paid for the bike is\" ,0.05 * price)\n"
      ],
      "metadata": {
        "id": "TdHw-M2Z3lkL",
        "colab": {
          "base_uri": "https://localhost:8080/"
        },
        "outputId": "21733ddb-0636-4ff5-88f7-12919eb79602"
      },
      "execution_count": null,
      "outputs": [
        {
          "output_type": "stream",
          "name": "stdout",
          "text": [
            "Enter the cost price of your bike : 1000000\n",
            "The road tax to be paid for the bike is 150000.0\n"
          ]
        }
      ]
    },
    {
      "cell_type": "markdown",
      "source": [
        "Write a program to calculate the electricity bill by accepting the number of units consumed by the user as input. Use the following price chart for reference :-\n",
        "\n",
        "Price of first 100 units - no charge\n",
        "\n",
        "Price of next 100 units - Rs 5/- per unit\n",
        "\n",
        "After 200 units - Rs 10/- per unit"
      ],
      "metadata": {
        "id": "4qwB-dyV2vdv"
      }
    },
    {
      "cell_type": "code",
      "execution_count": null,
      "metadata": {
        "id": "9CRK7oBa2rjP",
        "colab": {
          "base_uri": "https://localhost:8080/"
        },
        "outputId": "f392b3e5-8708-4766-ddc0-863245d4d56a"
      },
      "outputs": [
        {
          "output_type": "stream",
          "name": "stdout",
          "text": [
            "Enter the number of units consumed by you : 150\n",
            "Your electricity bill is 750.0\n"
          ]
        }
      ],
      "source": [
        "units=float(input(\"Enter the number of units consumed by you : \"))\n",
        "\n",
        "if units<=100:\n",
        "  print(\"Your electricity bill is free of cost\")\n",
        "\n",
        "elif units<=200:\n",
        "  print(\"Your electricity bill is\", 5*units)\n",
        "\n",
        "else:\n",
        "  print(\"Your electricity bill is\", 10*units)\n"
      ]
    },
    {
      "cell_type": "code",
      "source": [],
      "metadata": {
        "id": "j0kmCCj-ICqT"
      },
      "execution_count": null,
      "outputs": []
    }
  ]
}